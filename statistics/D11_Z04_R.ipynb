{
 "cells": [
  {
   "cell_type": "markdown",
   "metadata": {},
   "source": [
    "# Cross validation\n"
   ]
  },
  {
   "cell_type": "code",
   "execution_count": 1,
   "metadata": {},
   "outputs": [],
   "source": [
    "import numpy as np\n",
    "import pandas as pd\n",
    "import scipy.stats as stats\n",
    "import sklearn.linear_model as lm\n",
    "from sklearn import datasets, linear_model\n",
    "import matplotlib.pyplot as plt\n",
    "\n",
    "from sklearn.preprocessing import PolynomialFeatures\n",
    "from sklearn.pipeline import make_pipeline"
   ]
  },
  {
   "cell_type": "markdown",
   "metadata": {},
   "source": [
    "Rozważmy następujący zbiór punktów:"
   ]
  },
  {
   "cell_type": "code",
   "execution_count": 2,
   "metadata": {},
   "outputs": [
    {
     "data": {
      "image/png": "[encoded data removed]",
      "text/plain": [
       "<Figure size 432x288 with 1 Axes>"
      ]
     },
     "metadata": {
      "needs_background": "light"
     },
     "output_type": "display_data"
    }
   ],
   "source": [
    "x = stats.uniform(0,3).rvs(100)\n",
    "f = lambda x: ((x*2-1)*(x**2-2)*(x-2)+3)\n",
    "y = f(x) + stats.norm(0,0.9).rvs(len(x))\n",
    "plt.plot(x, y, 'ok', ms=10);\n",
    "plt.show()"
   ]
  },
  {
   "cell_type": "markdown",
   "metadata": {},
   "source": [
    "# Zadanie\n",
    "Podziel zbiór danych na część testową i treningową. \n",
    "Naucz model na części treningowej i oceń wyniki na części testowej."
   ]
  },
  {
   "cell_type": "code",
   "execution_count": 3,
   "metadata": {},
   "outputs": [
    {
     "name": "stdout",
     "output_type": "stream",
     "text": [
      "(60,) (60,)\n",
      "(40,) (40,)\n"
     ]
    }
   ],
   "source": [
    "from sklearn.model_selection import train_test_split\n",
    "X_train, X_test, y_train, y_test = train_test_split(x, y, test_size=0.4, random_state=0)\n",
    "\n",
    "print(X_train.shape, y_train.shape)\n",
    "print(X_test.shape, y_test.shape)"
   ]
  },
  {
   "cell_type": "code",
   "execution_count": 4,
   "metadata": {},
   "outputs": [],
   "source": [
    "X_train=np.vstack(X_train)\n",
    "X_test=np.vstack(X_test)"
   ]
  },
  {
   "cell_type": "code",
   "execution_count": 5,
   "metadata": {},
   "outputs": [
    {
     "data": {
      "text/plain": [
       "array([-3.71592152e-01, -6.12950527e-01,  3.55047192e+00, -3.20774568e-01,\n",
       "        7.28400028e-01,  1.24280043e+01,  1.17434928e+01,  6.79852391e+00,\n",
       "        1.41068551e+00,  3.24978110e+00,  1.56483693e+01,  1.54952863e+00,\n",
       "        5.88202528e+00,  6.78699649e+00,  9.84878438e-02, -4.73870743e-01,\n",
       "        2.64928061e-01, -6.88299643e-02, -6.25853646e-01, -5.59287856e-01,\n",
       "        8.77057408e+00,  2.58254699e+00,  4.91602006e+00,  4.99200146e+00,\n",
       "        3.95525764e+00,  5.63191179e-02,  2.61155801e+01,  3.49107926e+00,\n",
       "        1.19972870e+01,  1.73428827e+01, -4.66230958e-01, -8.87346727e-03,\n",
       "        3.35005245e-01,  8.27004195e+00,  2.31371339e+01,  2.54833619e+01,\n",
       "        1.83432255e+01,  8.59514899e+00,  1.17714957e+01, -4.08936102e-01])"
      ]
     },
     "execution_count": 5,
     "metadata": {},
     "output_type": "execute_result"
    }
   ],
   "source": [
    "model2 = make_pipeline(PolynomialFeatures(2), linear_model.LinearRegression())\n",
    "model2.fit(X_train, y_train)\n",
    "model2.predict(X_test)"
   ]
  },
  {
   "cell_type": "code",
   "execution_count": 6,
   "metadata": {},
   "outputs": [
    {
     "name": "stdout",
     "output_type": "stream",
     "text": [
      "R^2: 0.7352997082380095\n",
      "Explained variance score: 0.7428553491987917\n",
      "Median absolute error: 3.5535344654795864\n",
      "Mean squared error: 19.49799710102177\n",
      "Mean absolute errors: 3.8802846013951653\n"
     ]
    }
   ],
   "source": [
    "from sklearn import  metrics\n",
    "print(\"R^2: {}\".format(metrics.r2_score(y_test, model2.predict(X_test)) ))\n",
    "print(\"Explained variance score: {}\".format( metrics.explained_variance_score(y_test, model2.predict(X_test)) ))\n",
    "print(\"Median absolute error: {}\".format( metrics.median_absolute_error(y_test, model2.predict(X_test)) ))\n",
    "print(\"Mean squared error: {}\".format( metrics.mean_squared_error(y_test, model2.predict(X_test)) ))\n",
    "print(\"Mean absolute errors: {}\".format(metrics.mean_absolute_error(y_test, model2.predict(X_test)) ))"
   ]
  },
  {
   "cell_type": "markdown",
   "metadata": {},
   "source": [
    "# Zadanie\n",
    "Wylicz powyższe miary dla wszytkich modeli:\n",
    "\n",
    "- regrsji linowej\n",
    "- regrsji wielomianowej stopnia 2\n",
    "- regrsji wielomianowej stopnia 3\n",
    "- regrsji wielomianowej stopnia 4\n",
    "- regrsji wielomianowej stopnia 5\n",
    "- regrsji wielomianowej stopnia 25"
   ]
  },
  {
   "cell_type": "code",
   "execution_count": 7,
   "metadata": {},
   "outputs": [
    {
     "name": "stdout",
     "output_type": "stream",
     "text": [
      "LR\n",
      "R^2: 0.4360340136472547\n",
      "Explained variance score: 0.4370873310827912\n",
      "Median absolute error: 3.509634874527908\n",
      "Mean squared error: 41.542104444932484\n",
      "Mean absolute errors: 4.508908789677544\n",
      "PR2\n",
      "R^2: 0.7352997082380095\n",
      "Explained variance score: 0.7428553491987917\n",
      "Median absolute error: 3.5535344654795864\n",
      "Mean squared error: 19.49799710102177\n",
      "Mean absolute errors: 3.8802846013951653\n",
      "PR3\n",
      "R^2: 0.9836850814223623\n",
      "Explained variance score: 0.9844881689140402\n",
      "Median absolute error: 0.66744567607173\n",
      "Mean squared error: 1.2017676029470268\n",
      "Mean absolute errors: 0.821271049406155\n",
      "PR4\n",
      "R^2: 0.9873787596577078\n",
      "Explained variance score: 0.9891419351584655\n",
      "Median absolute error: 0.4247679929789232\n",
      "Mean squared error: 0.9296888415468253\n",
      "Mean absolute errors: 0.6917732282887726\n",
      "PR5\n",
      "R^2: 0.986664297359737\n",
      "Explained variance score: 0.9881952831600698\n",
      "Median absolute error: 0.5366515716060725\n",
      "Mean squared error: 0.9823166030120409\n",
      "Mean absolute errors: 0.7236875600324902\n",
      "PR6\n",
      "R^2: 0.9879642283079664\n",
      "Explained variance score: 0.98909174420891\n",
      "Median absolute error: 0.39957616900428317\n",
      "Mean squared error: 0.8865628367755736\n",
      "Mean absolute errors: 0.6741340817312362\n",
      "PR25\n",
      "R^2: 0.9725586873648275\n",
      "Explained variance score: 0.9729943078931866\n",
      "Median absolute error: 0.7219446924838153\n",
      "Mean squared error: 2.0213450867289744\n",
      "Mean absolute errors: 1.0056404219737967\n"
     ]
    }
   ],
   "source": [
    "models = []\n",
    "models.append(('LR', linear_model.LinearRegression()))\n",
    "models.append(('PR2', make_pipeline(PolynomialFeatures(2), linear_model.LinearRegression()) ))\n",
    "models.append(('PR3', make_pipeline(PolynomialFeatures(3), linear_model.LinearRegression()) ))\n",
    "models.append(('PR4', make_pipeline(PolynomialFeatures(4), linear_model.LinearRegression()) ))\n",
    "models.append(('PR5', make_pipeline(PolynomialFeatures(5), linear_model.LinearRegression()) ))\n",
    "models.append(('PR6', make_pipeline(PolynomialFeatures(6), linear_model.LinearRegression()) ))\n",
    "models.append(('PR25', make_pipeline(PolynomialFeatures(25), linear_model.LinearRegression()) ))\n",
    "\n",
    "for name, model in models:\n",
    "    print(name)\n",
    "    model.fit(X_train, y_train)\n",
    "    print(\"R^2: {}\".format(metrics.r2_score(y_test, model.predict(X_test)) ))\n",
    "    print(\"Explained variance score: {}\".format( metrics.explained_variance_score(y_test, model.predict(X_test)) ))\n",
    "    print(\"Median absolute error: {}\".format( metrics.median_absolute_error(y_test, model.predict(X_test)) ))\n",
    "    print(\"Mean squared error: {}\".format( metrics.mean_squared_error(y_test, model.predict(X_test)) ))\n",
    "    print(\"Mean absolute errors: {}\".format(metrics.mean_absolute_error(y_test, model.predict(X_test)) ))"
   ]
  },
  {
   "cell_type": "code",
   "execution_count": 9,
   "metadata": {},
   "outputs": [
    {
     "name": "stdout",
     "output_type": "stream",
     "text": [
      "LR\n",
      "Mean absolute errors: 4.508908789677544\n",
      "PR2\n",
      "Mean absolute errors: 3.8802846013951653\n",
      "PR3\n",
      "Mean absolute errors: 0.821271049406155\n",
      "PR4\n",
      "Mean absolute errors: 0.6917732282887726\n",
      "PR5\n",
      "Mean absolute errors: 0.7236875600324902\n",
      "PR6\n",
      "Mean absolute errors: 0.6741340817312362\n",
      "PR25\n",
      "Mean absolute errors: 1.0056404219737967\n"
     ]
    }
   ],
   "source": [
    "models = []\n",
    "models.append(('LR', linear_model.LinearRegression()))\n",
    "models.append(('PR2', make_pipeline(PolynomialFeatures(2), linear_model.LinearRegression()) ))\n",
    "models.append(('PR3', make_pipeline(PolynomialFeatures(3), linear_model.LinearRegression()) ))\n",
    "models.append(('PR4', make_pipeline(PolynomialFeatures(4), linear_model.LinearRegression()) ))\n",
    "models.append(('PR5', make_pipeline(PolynomialFeatures(5), linear_model.LinearRegression()) ))\n",
    "models.append(('PR6', make_pipeline(PolynomialFeatures(6), linear_model.LinearRegression()) ))\n",
    "models.append(('PR25', make_pipeline(PolynomialFeatures(25), linear_model.LinearRegression()) ))\n",
    "\n",
    "for name, model in models:\n",
    "    print(name)\n",
    "    model.fit(X_train, y_train)\n",
    "    print(\"Mean absolute errors: {}\".format(metrics.mean_absolute_error(y_true=y_test, y_pred=model.predict(X_test)) ))"
   ]
  },
  {
   "cell_type": "code",
   "execution_count": null,
   "metadata": {
    "collapsed": true
   },
   "outputs": [],
   "source": []
  },
  {
   "cell_type": "code",
   "execution_count": null,
   "metadata": {
    "collapsed": true
   },
   "outputs": [],
   "source": []
  }
 ],
 "metadata": {
  "kernelspec": {
   "display_name": "Python 3",
   "language": "python",
   "name": "python3"
  },
  "language_info": {
   "codemirror_mode": {
    "name": "ipython",
    "version": 3
   },
   "file_extension": ".py",
   "mimetype": "text/x-python",
   "name": "python",
   "nbconvert_exporter": "python",
   "pygments_lexer": "ipython3",
   "version": "3.7.6"
  }
 },
 "nbformat": 4,
 "nbformat_minor": 1
}
