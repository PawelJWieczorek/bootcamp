{
 "cells": [
  {
   "cell_type": "markdown",
   "metadata": {},
   "source": [
    "# Analiza rozkładów prawdopobieństwa"
   ]
  },
  {
   "cell_type": "code",
   "execution_count": 2,
   "metadata": {},
   "outputs": [],
   "source": [
    "import numpy as np\n",
    "import matplotlib.pyplot as plt\n",
    "\n",
    "from scipy import stats"
   ]
  },
  {
   "cell_type": "markdown",
   "metadata": {},
   "source": [
    "## Zadanie - rozkład dyskretny\n",
    "Zmienna losowa $X$ ma funkcje prawdopodobieństwa nastepującej postaci:\n",
    "\n",
    "| $x_i$ | -3  | -1  | 3   | 5   |\n",
    "|-------|-----|-----|-----|-----|\n",
    "| $p_i$ | 0.1 | 0.2 | 0.5 | 0.2 |\n",
    "\n",
    "\n",
    "a) Narysuj wykres rozkładu prawdopodobieństwa.\n",
    "\n",
    "b) Wyznacz narysuj dystrybuante $F$ tego rozkładu.\n",
    "\n",
    "c) Oblicz prawdopodobieństwa $P(X > 1)$ i $P( \\frac{1}{4} < X < 5)$.\n",
    "\n",
    "d) Oblicz wartość oczekiwaną, wariancję i odchylenie standardowe zmiennej X."
   ]
  },
  {
   "cell_type": "code",
   "execution_count": 1,
   "metadata": {},
   "outputs": [],
   "source": [
    "X = [-3, -1, 3, 5]\n",
    "p = [0.1, 0.2, 0.5, 0.2]"
   ]
  },
  {
   "cell_type": "code",
   "execution_count": 4,
   "metadata": {},
   "outputs": [
    {
     "data": {
      "image/png": "[encoded data removed]",
      "text/plain": [
       "<Figure size 432x288 with 1 Axes>"
      ]
     },
     "metadata": {
      "needs_background": "light"
     },
     "output_type": "display_data"
    }
   ],
   "source": [
    "# a)\n",
    "\n",
    "plt.scatter(x=X, y=p)\n",
    "plt.vlines(x=X, ymin=0, ymax=p, colors='g', lw=3, alpha=0.5)\n",
    "plt.show()"
   ]
  },
  {
   "cell_type": "code",
   "execution_count": 19,
   "metadata": {},
   "outputs": [
    {
     "name": "stdout",
     "output_type": "stream",
     "text": [
      "[-5, -3, -1, 3, 5, 10]\n",
      "[0, 0.1, 0.30000000000000004, 0.8, 1.0]\n"
     ]
    }
   ],
   "source": [
    "# b)\n",
    "\n",
    "F = np.cumsum(p)\n",
    "\n",
    "x_lim = [-5] + X + [10]\n",
    "f = [0] + list(F)\n",
    "\n",
    "print(x_lim)\n",
    "print(f)"
   ]
  },
  {
   "cell_type": "code",
   "execution_count": 21,
   "metadata": {},
   "outputs": [
    {
     "data": {
      "image/png": "[encoded data removed]",
      "text/plain": [
       "<Figure size 432x288 with 1 Axes>"
      ]
     },
     "metadata": {
      "needs_background": "light"
     },
     "output_type": "display_data"
    }
   ],
   "source": [
    "plt.scatter(X, F, label='cdf', color='r')\n",
    "plt.scatter(X, f[:-1], facecolors='none', edgecolors='r')\n",
    "plt.xlim([-5, 10])\n",
    "plt.ylim([-0.1, 1.1])\n",
    "\n",
    "for i in range(len(x_lim)-1):\n",
    "    plt.hlines(xmin=x_lim[i], xmax=x_lim[i+1], y=f[i], colors='black', alpha=0.5, linestyles='--')"
   ]
  },
  {
   "cell_type": "code",
   "execution_count": 22,
   "metadata": {},
   "outputs": [],
   "source": [
    "# c)\n",
    "\n",
    "# P(X > 1) = P(X = 3) + P(X=5) = 0.7\n",
    "# P(0.25 < X < 5) = P(X=3) = 0.5"
   ]
  },
  {
   "cell_type": "code",
   "execution_count": 26,
   "metadata": {},
   "outputs": [
    {
     "name": "stdout",
     "output_type": "stream",
     "text": [
      "Wartosc oczekiwana: 2.0\n",
      "Wariancja: 6.6\n",
      "Odchylenie standardowe: 2.569046515733026\n"
     ]
    }
   ],
   "source": [
    "# d)\n",
    "\n",
    "X = np.array(X)\n",
    "p = np.array(p)\n",
    "\n",
    "ex = np.sum(X * p)\n",
    "print(\"Wartosc oczekiwana: {}\".format(ex))\n",
    "\n",
    "ex2 = np.sum(X ** 2 * p)\n",
    "var = ex2 - ex ** 2\n",
    "print(\"Wariancja: {}\".format(var))\n",
    "\n",
    "st = np.sqrt(var)\n",
    "print(\"Odchylenie standardowe: {}\".format(st))\n"
   ]
  },
  {
   "cell_type": "markdown",
   "metadata": {},
   "source": [
    "## ***Zadanie - rozkład ciągły\n",
    "Zmienna losowa X ma rozkład ciągły o gęstości:\n",
    "\n",
    "$$\n",
    "    f(x)=\\left.\n",
    "    \\begin{cases}\n",
    "    x \\quad &\\text{dla}\\quad 0<x\\leq 1\\\\\n",
    "    2-x \\quad &\\text{dla}\\quad 1<x\\leq 2\\\\\n",
    "    0 \\quad &\\text{dla}\\quad x>2, x\\le 0.\n",
    "    \\end{cases}\\right.\n",
    "$$\n",
    "\n",
    "\n",
    "a) Narysuj wykres gęstości.\n",
    "\n",
    "b) Wyznacz narysuj dystrybuante $F$ tego rozkładu.\n",
    "\n",
    "c) Oblicz prawdopodobieństwa $P(X > 1)$ i $P( \\frac{1}{4} < X \\leq 1)$.\n",
    "\n",
    "d) Oblicz wartość oczekiwaną, wariancję i odchylenie standardowe zmiennej X."
   ]
  },
  {
   "cell_type": "markdown",
   "metadata": {},
   "source": [
    "### a)"
   ]
  },
  {
   "cell_type": "code",
   "execution_count": null,
   "metadata": {},
   "outputs": [],
   "source": []
  },
  {
   "cell_type": "code",
   "execution_count": null,
   "metadata": {},
   "outputs": [],
   "source": []
  },
  {
   "cell_type": "code",
   "execution_count": null,
   "metadata": {},
   "outputs": [],
   "source": []
  },
  {
   "cell_type": "markdown",
   "metadata": {},
   "source": [
    "### b)\n",
    "$$F(x) = \n",
    "\\begin{cases} \n",
    "0 &\\text{dla } x < 0 \\\\\n",
    "\\frac{x^2}{2} &\\text{dla } 0 \\leq x < 1 \\\\\n",
    "-\\frac{x^2}{2} + 2x - 1 &\\text{dla } 1 \\leq x < 2 \\\\\n",
    "1 &\\text{dla } x \\geq 2\n",
    "\\end{cases} $$"
   ]
  },
  {
   "cell_type": "code",
   "execution_count": null,
   "metadata": {},
   "outputs": [],
   "source": []
  },
  {
   "cell_type": "code",
   "execution_count": null,
   "metadata": {},
   "outputs": [],
   "source": []
  },
  {
   "cell_type": "code",
   "execution_count": null,
   "metadata": {},
   "outputs": [],
   "source": []
  },
  {
   "cell_type": "markdown",
   "metadata": {},
   "source": [
    "### c) \n",
    "$\\mathbb{P}(X > 1) = $\n",
    "\n",
    "$\\mathbb{P}(\\frac{1}{4} < X < 1) = $"
   ]
  },
  {
   "cell_type": "markdown",
   "metadata": {},
   "source": [
    "### d) \n",
    "$\\mathbb{E}X = $"
   ]
  }
 ],
 "metadata": {
  "kernelspec": {
   "display_name": "Python 3",
   "language": "python",
   "name": "python3"
  },
  "language_info": {
   "codemirror_mode": {
    "name": "ipython",
    "version": 3
   },
   "file_extension": ".py",
   "mimetype": "text/x-python",
   "name": "python",
   "nbconvert_exporter": "python",
   "pygments_lexer": "ipython3",
   "version": "3.7.3"
  }
 },
 "nbformat": 4,
 "nbformat_minor": 2
}
