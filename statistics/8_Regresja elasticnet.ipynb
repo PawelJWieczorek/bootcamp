{
 "cells": [
  {
   "cell_type": "code",
   "execution_count": 1,
   "metadata": {},
   "outputs": [],
   "source": [
    "import numpy as np\n",
    "import pandas as pd\n",
    "import matplotlib.pyplot as plt\n",
    "import matplotlib.pyplot as plt\n",
    "from sklearn import linear_model\n",
    "import scipy.stats as stats\n",
    "from sklearn.linear_model import Ridge\n",
    "from sklearn.linear_model import Lasso\n",
    "from sklearn.linear_model import ElasticNet\n",
    "from sklearn.preprocessing import PolynomialFeatures\n",
    "from sklearn.pipeline import make_pipeline\n",
    "from sklearn import model_selection"
   ]
  },
  {
   "cell_type": "markdown",
   "metadata": {},
   "source": [
    "# Regresja ElasticNet - L1 + L2"
   ]
  },
  {
   "cell_type": "markdown",
   "metadata": {},
   "source": [
    "Budujemy zbiór"
   ]
  },
  {
   "cell_type": "code",
   "execution_count": 2,
   "metadata": {},
   "outputs": [],
   "source": [
    "true_fun = lambda X: np.cos(1.5 * np.pi * X)\n",
    "n_samples=20\n",
    "x = np.sort(np.random.rand(n_samples))\n",
    "y = true_fun(x) + np.random.randn(n_samples) * 0.1\n",
    "x=np.vstack(x)"
   ]
  },
  {
   "cell_type": "markdown",
   "metadata": {},
   "source": [
    "Regresja z regularyzacją lasso"
   ]
  },
  {
   "cell_type": "code",
   "execution_count": 3,
   "metadata": {},
   "outputs": [
    {
     "data": {
      "image/png": "[encoded data removed]",
      "text/plain": [
       "<Figure size 432x288 with 1 Axes>"
      ]
     },
     "metadata": {
      "needs_background": "light"
     },
     "output_type": "display_data"
    }
   ],
   "source": [
    "clf = Lasso(alpha=1.0)\n",
    "clf.fit(x, y) \n",
    "\n",
    "x_plot = np.vstack(np.linspace(0, 1, 20))\n",
    "plt.plot(x_plot, clf.predict(x_plot), color='blue',linewidth=3)\n",
    "plt.plot(x, y, 'ok');\n",
    "plt.show()"
   ]
  },
  {
   "cell_type": "markdown",
   "metadata": {},
   "source": [
    "Regresja liniowa ze zmiennymi wielomianowymi"
   ]
  },
  {
   "cell_type": "code",
   "execution_count": 4,
   "metadata": {},
   "outputs": [
    {
     "name": "stdout",
     "output_type": "stream",
     "text": [
      "LR degree 2\n",
      "LR degree 20\n"
     ]
    },
    {
     "data": {
      "image/png": "[encoded data removed]",
      "text/plain": [
       "<Figure size 432x288 with 1 Axes>"
      ]
     },
     "metadata": {
      "needs_background": "light"
     },
     "output_type": "display_data"
    }
   ],
   "source": [
    "# prepare models\n",
    "models = []\n",
    "predicts = []\n",
    "names=[]\n",
    "models.append(('LR degree 2', make_pipeline(PolynomialFeatures(2), linear_model.LinearRegression()) ))\n",
    "models.append(('LR degree 20', make_pipeline(PolynomialFeatures(20), linear_model.LinearRegression()) ))\n",
    "\n",
    "x_plot = np.vstack(np.linspace(-3, 3, 1000))\n",
    "for name, model in models:\n",
    "    print(name)\n",
    "    model.fit(x, y)\n",
    "    predicts.append(model.predict(x_plot))\n",
    "    names.append(name)\n",
    "    \n",
    "plt.plot(x, y, 'ok');\n",
    "for i in range(len(models)):\n",
    "    #print(i)\n",
    "    plt.plot(x_plot, predicts[i],linewidth=3,label=names[i])\n",
    "    plt.xlim((0, 1))\n",
    "    plt.ylim((-2, 2))\n",
    "plt.legend()    \n",
    "plt.show()    "
   ]
  },
  {
   "cell_type": "markdown",
   "metadata": {},
   "source": [
    "grid search - stopen wielomianu i alpha"
   ]
  },
  {
   "cell_type": "code",
   "execution_count": 5,
   "metadata": {},
   "outputs": [
    {
     "data": {
      "text/plain": [
       "{'elasticnet__alpha': 0.1, 'polynomialfeatures__degree': 2}"
      ]
     },
     "execution_count": 5,
     "metadata": {},
     "output_type": "execute_result"
    }
   ],
   "source": [
    "from sklearn.model_selection import GridSearchCV\n",
    "grid = GridSearchCV(make_pipeline(PolynomialFeatures(), ElasticNet()),\n",
    "                    param_grid={'polynomialfeatures__degree': [1, 2, 3, 4, 5, 6, 7],\n",
    "                    'elasticnet__alpha': [0.1, 1, 2, 3]},\n",
    "                    cv=5,\n",
    "                    refit=False)\n",
    "grid.fit(x, y)\n",
    "grid.best_params_"
   ]
  },
  {
   "cell_type": "markdown",
   "metadata": {},
   "source": [
    "### Zadanie 1."
   ]
  },
  {
   "cell_type": "markdown",
   "metadata": {},
   "source": [
    "Dopasuj regresję ridge do danych. Sprawdź które współczynniki zostały zmniejszone względem zwykłej regresji liniowej."
   ]
  },
  {
   "cell_type": "code",
   "execution_count": 7,
   "metadata": {},
   "outputs": [],
   "source": [
    "from sklearn.datasets import make_regression"
   ]
  },
  {
   "cell_type": "code",
   "execution_count": 8,
   "metadata": {},
   "outputs": [
    {
     "data": {
      "text/html": [
       "<div>\n",
       "<style scoped>\n",
       "    .dataframe tbody tr th:only-of-type {\n",
       "        vertical-align: middle;\n",
       "    }\n",
       "\n",
       "    .dataframe tbody tr th {\n",
       "        vertical-align: top;\n",
       "    }\n",
       "\n",
       "    .dataframe thead th {\n",
       "        text-align: right;\n",
       "    }\n",
       "</style>\n",
       "<table border=\"1\" class=\"dataframe\">\n",
       "  <thead>\n",
       "    <tr style=\"text-align: right;\">\n",
       "      <th></th>\n",
       "      <th>0</th>\n",
       "      <th>1</th>\n",
       "      <th>2</th>\n",
       "      <th>3</th>\n",
       "      <th>4</th>\n",
       "      <th>5</th>\n",
       "      <th>6</th>\n",
       "      <th>7</th>\n",
       "      <th>8</th>\n",
       "      <th>9</th>\n",
       "      <th>10</th>\n",
       "      <th>11</th>\n",
       "      <th>12</th>\n",
       "      <th>13</th>\n",
       "      <th>14</th>\n",
       "      <th>15</th>\n",
       "      <th>16</th>\n",
       "      <th>17</th>\n",
       "      <th>18</th>\n",
       "      <th>19</th>\n",
       "    </tr>\n",
       "  </thead>\n",
       "  <tbody>\n",
       "    <tr>\n",
       "      <th>0</th>\n",
       "      <td>-0.069569</td>\n",
       "      <td>-1.449855</td>\n",
       "      <td>0.769006</td>\n",
       "      <td>1.029079</td>\n",
       "      <td>-1.924100</td>\n",
       "      <td>0.738182</td>\n",
       "      <td>0.050648</td>\n",
       "      <td>0.431314</td>\n",
       "      <td>-0.140589</td>\n",
       "      <td>2.250977</td>\n",
       "      <td>0.508393</td>\n",
       "      <td>1.232522</td>\n",
       "      <td>0.426923</td>\n",
       "      <td>-0.686352</td>\n",
       "      <td>-0.514991</td>\n",
       "      <td>-0.043792</td>\n",
       "      <td>1.592111</td>\n",
       "      <td>1.286825</td>\n",
       "      <td>1.206873</td>\n",
       "      <td>-1.385308</td>\n",
       "    </tr>\n",
       "    <tr>\n",
       "      <th>1</th>\n",
       "      <td>0.164913</td>\n",
       "      <td>-1.405967</td>\n",
       "      <td>0.836636</td>\n",
       "      <td>-0.288131</td>\n",
       "      <td>-1.410823</td>\n",
       "      <td>-0.114962</td>\n",
       "      <td>0.495851</td>\n",
       "      <td>-1.394840</td>\n",
       "      <td>0.405080</td>\n",
       "      <td>-1.274319</td>\n",
       "      <td>-1.713915</td>\n",
       "      <td>0.795550</td>\n",
       "      <td>1.179420</td>\n",
       "      <td>0.711785</td>\n",
       "      <td>0.273729</td>\n",
       "      <td>-0.307068</td>\n",
       "      <td>-0.937948</td>\n",
       "      <td>0.129555</td>\n",
       "      <td>0.138745</td>\n",
       "      <td>-1.402331</td>\n",
       "    </tr>\n",
       "    <tr>\n",
       "      <th>2</th>\n",
       "      <td>-0.368782</td>\n",
       "      <td>-0.716642</td>\n",
       "      <td>1.698623</td>\n",
       "      <td>-0.387573</td>\n",
       "      <td>0.493682</td>\n",
       "      <td>2.195156</td>\n",
       "      <td>0.215677</td>\n",
       "      <td>2.190078</td>\n",
       "      <td>-0.038940</td>\n",
       "      <td>0.740299</td>\n",
       "      <td>1.507576</td>\n",
       "      <td>1.270354</td>\n",
       "      <td>-1.320544</td>\n",
       "      <td>1.223768</td>\n",
       "      <td>0.899885</td>\n",
       "      <td>-2.001396</td>\n",
       "      <td>0.326204</td>\n",
       "      <td>1.381349</td>\n",
       "      <td>-0.961049</td>\n",
       "      <td>0.596878</td>\n",
       "    </tr>\n",
       "    <tr>\n",
       "      <th>3</th>\n",
       "      <td>-0.993124</td>\n",
       "      <td>0.003771</td>\n",
       "      <td>0.339965</td>\n",
       "      <td>0.841631</td>\n",
       "      <td>0.280442</td>\n",
       "      <td>-0.206904</td>\n",
       "      <td>0.880179</td>\n",
       "      <td>0.643314</td>\n",
       "      <td>-1.128011</td>\n",
       "      <td>0.160928</td>\n",
       "      <td>-0.267734</td>\n",
       "      <td>-1.570623</td>\n",
       "      <td>0.931848</td>\n",
       "      <td>-0.249459</td>\n",
       "      <td>0.493837</td>\n",
       "      <td>-0.394850</td>\n",
       "      <td>0.049495</td>\n",
       "      <td>0.698457</td>\n",
       "      <td>-0.015682</td>\n",
       "      <td>-0.190653</td>\n",
       "    </tr>\n",
       "    <tr>\n",
       "      <th>4</th>\n",
       "      <td>-1.580732</td>\n",
       "      <td>-0.901989</td>\n",
       "      <td>-0.450676</td>\n",
       "      <td>1.368374</td>\n",
       "      <td>-0.604567</td>\n",
       "      <td>0.091259</td>\n",
       "      <td>0.571180</td>\n",
       "      <td>0.054684</td>\n",
       "      <td>-0.761465</td>\n",
       "      <td>-1.015132</td>\n",
       "      <td>-1.471651</td>\n",
       "      <td>-0.215548</td>\n",
       "      <td>-0.054830</td>\n",
       "      <td>-0.708785</td>\n",
       "      <td>-1.113764</td>\n",
       "      <td>0.645437</td>\n",
       "      <td>-0.536059</td>\n",
       "      <td>-0.074344</td>\n",
       "      <td>0.710070</td>\n",
       "      <td>1.871829</td>\n",
       "    </tr>\n",
       "  </tbody>\n",
       "</table>\n",
       "</div>"
      ],
      "text/plain": [
       "          0         1         2         3         4         5         6  \\\n",
       "0 -0.069569 -1.449855  0.769006  1.029079 -1.924100  0.738182  0.050648   \n",
       "1  0.164913 -1.405967  0.836636 -0.288131 -1.410823 -0.114962  0.495851   \n",
       "2 -0.368782 -0.716642  1.698623 -0.387573  0.493682  2.195156  0.215677   \n",
       "3 -0.993124  0.003771  0.339965  0.841631  0.280442 -0.206904  0.880179   \n",
       "4 -1.580732 -0.901989 -0.450676  1.368374 -0.604567  0.091259  0.571180   \n",
       "\n",
       "          7         8         9        10        11        12        13  \\\n",
       "0  0.431314 -0.140589  2.250977  0.508393  1.232522  0.426923 -0.686352   \n",
       "1 -1.394840  0.405080 -1.274319 -1.713915  0.795550  1.179420  0.711785   \n",
       "2  2.190078 -0.038940  0.740299  1.507576  1.270354 -1.320544  1.223768   \n",
       "3  0.643314 -1.128011  0.160928 -0.267734 -1.570623  0.931848 -0.249459   \n",
       "4  0.054684 -0.761465 -1.015132 -1.471651 -0.215548 -0.054830 -0.708785   \n",
       "\n",
       "         14        15        16        17        18        19  \n",
       "0 -0.514991 -0.043792  1.592111  1.286825  1.206873 -1.385308  \n",
       "1  0.273729 -0.307068 -0.937948  0.129555  0.138745 -1.402331  \n",
       "2  0.899885 -2.001396  0.326204  1.381349 -0.961049  0.596878  \n",
       "3  0.493837 -0.394850  0.049495  0.698457 -0.015682 -0.190653  \n",
       "4 -1.113764  0.645437 -0.536059 -0.074344  0.710070  1.871829  "
      ]
     },
     "execution_count": 8,
     "metadata": {},
     "output_type": "execute_result"
    }
   ],
   "source": [
    "n_samples, n_features, n_informative = 1000, 20, 10\n",
    "rng = np.random.RandomState(0)\n",
    "X, y = make_regression(n_samples=n_samples, \n",
    "                       n_features=n_features, \n",
    "                       n_informative=n_informative, \n",
    "                       random_state=rng)\n",
    "X = pd.DataFrame(X)\n",
    "X.head()"
   ]
  },
  {
   "cell_type": "code",
   "execution_count": null,
   "metadata": {},
   "outputs": [],
   "source": []
  }
 ],
 "metadata": {
  "kernelspec": {
   "display_name": "sages1",
   "language": "python",
   "name": "sages1"
  },
  "language_info": {
   "codemirror_mode": {
    "name": "ipython",
    "version": 3
   },
   "file_extension": ".py",
   "mimetype": "text/x-python",
   "name": "python",
   "nbconvert_exporter": "python",
   "pygments_lexer": "ipython3",
   "version": "3.7.3"
  }
 },
 "nbformat": 4,
 "nbformat_minor": 4
}
