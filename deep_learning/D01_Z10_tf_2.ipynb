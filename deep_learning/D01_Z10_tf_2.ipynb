{
 "cells": [
  {
   "cell_type": "code",
   "execution_count": 1,
   "metadata": {},
   "outputs": [
    {
     "name": "stdout",
     "output_type": "stream",
     "text": [
      "2.3.1\n",
      "2.4.0\n"
     ]
    }
   ],
   "source": [
    "import tensorflow as tf\n",
    "from tensorflow import keras as keras\n",
    "print(tf.__version__)\n",
    "\n",
    "print(keras.__version__)"
   ]
  },
  {
   "cell_type": "markdown",
   "metadata": {},
   "source": [
    "# Zad\n",
    "Pobierz dane"
   ]
  },
  {
   "cell_type": "code",
   "execution_count": 2,
   "metadata": {},
   "outputs": [],
   "source": [
    "from sklearn.datasets import fetch_20newsgroups\n",
    "newsgroups = fetch_20newsgroups(subset='train',categories=['sci.crypt', 'sci.electronics'])"
   ]
  },
  {
   "cell_type": "markdown",
   "metadata": {},
   "source": [
    "Wypisz pierwszy tekst"
   ]
  },
  {
   "cell_type": "code",
   "execution_count": 3,
   "metadata": {},
   "outputs": [
    {
     "name": "stdout",
     "output_type": "stream",
     "text": [
      "From: tedwards@eng.umd.edu (Thomas Grant Edwards)\n",
      "Subject: Re: Once tapped, your code is no good any more.\n",
      "Organization: Project GLUE, University of Maryland, College Park\n",
      "Lines: 25\n",
      "Distribution: na\n",
      "NNTP-Posting-Host: pipa.src.umd.edu\n",
      "\n",
      "In article <1r1r3nINNebn@dns1.NMSU.Edu> amolitor@nmsu.edu (Andrew Molitor) writes:\n",
      ">In article <C5so84.Hxv@demon.co.uk> Graham Toal <gtoal@gtoal.com> writes:\n",
      ">>Actually, I am *completely* baffled by why Dorothy Denning has chosen\n",
      ">>to throw away her academic respectability like this.\n",
      "\n",
      ">\tActually, I've been following her remarks for some time, with\n",
      ">interest. I'm also a member of academia, and her remarks have nothing\n",
      ">but elevate her respectability in my eyes. It remains to be seen whether\n",
      ">you are the radical fringe, or I.\n",
      "\n",
      ">\tIt is generally an error to assume that your beliefs are held by\n",
      ">the majority, or even a sizable minority. Especially when you're seeing\n",
      ">tens, nay dozens, of people on usenet agreeing with you.\n",
      "\n",
      "The people on usenet are clearly a special bunch.  We live the net, which\n",
      "is the future of our culture.  Usenetters have rapid electronic access to\n",
      "information.  Society in general must depend on CNN.  \n",
      "\n",
      "I can only hope we can make this information accessable by the public before\n",
      "the radical fringe, which _is_ the majority, destroys the fabric of\n",
      "this country.  Freedom is never easily won.\n",
      "\n",
      "-Thomas\n",
      "\n",
      "\n",
      "\n"
     ]
    }
   ],
   "source": [
    "# newsgroups_train.data[0]\n",
    "print(newsgroups.data[0])"
   ]
  },
  {
   "cell_type": "code",
   "execution_count": 4,
   "metadata": {},
   "outputs": [
    {
     "name": "stdout",
     "output_type": "stream",
     "text": [
      "1186\n"
     ]
    }
   ],
   "source": [
    "print(len(newsgroups.data))"
   ]
  },
  {
   "cell_type": "code",
   "execution_count": 5,
   "metadata": {},
   "outputs": [
    {
     "data": {
      "text/plain": [
       "1186"
      ]
     },
     "execution_count": 5,
     "metadata": {},
     "output_type": "execute_result"
    }
   ],
   "source": [
    "X = newsgroups.data\n",
    "y = newsgroups.target\n",
    "\n",
    "len(X)"
   ]
  },
  {
   "cell_type": "markdown",
   "metadata": {},
   "source": [
    "# Zad\n",
    "Zbuduj labele $y$ jako **One-hot encoding**:"
   ]
  },
  {
   "cell_type": "code",
   "execution_count": 9,
   "metadata": {},
   "outputs": [
    {
     "data": {
      "text/plain": [
       "array([[1., 0.],\n",
       "       [1., 0.],\n",
       "       [1., 0.],\n",
       "       [1., 0.],\n",
       "       [1., 0.],\n",
       "       [0., 1.],\n",
       "       [0., 1.],\n",
       "       [0., 1.],\n",
       "       [1., 0.],\n",
       "       [1., 0.]], dtype=float32)"
      ]
     },
     "execution_count": 9,
     "metadata": {},
     "output_type": "execute_result"
    }
   ],
   "source": [
    "# from tensorflow.keras.utils import np_utils\n",
    "from tensorflow.python.keras.utils import np_utils\n",
    "y = np_utils.to_categorical(y)\n",
    "y[:10]"
   ]
  },
  {
   "cell_type": "code",
   "execution_count": 10,
   "metadata": {},
   "outputs": [],
   "source": [
    "import nltk\n",
    "import string\n",
    "import re\n",
    "import pandas as pd"
   ]
  },
  {
   "cell_type": "code",
   "execution_count": 11,
   "metadata": {},
   "outputs": [],
   "source": [
    "def extract_content(mail):    \n",
    "    # wyciagniecie tresci maila   \n",
    "    return mail[mail.find(\"\\n\\n\"):]\n",
    "\n",
    "def extract_subject(mail):\n",
    "    return re.findall(r'Subject:(.+)',mail)[0]\n",
    "\n",
    "\n",
    "def stem_helper(word,stemmer):\n",
    "    try:\n",
    "        y = stemmer.stem(word)\n",
    "    except:\n",
    "        y = word\n",
    "    return y\n",
    "\n",
    "\n",
    "\n",
    "def clean_text(x, stemmer = nltk.PorterStemmer()):   \n",
    "    \"\"\"\n",
    "    x - jeden mail\n",
    "    \"\"\"    \n",
    " \n",
    "    #tokenizacja - rozbicie na liste tokenow\n",
    "    x_t = nltk.word_tokenize(x)    \n",
    "    # usuwanie znakow interpunkcyjnych\n",
    "    translator = str.maketrans('', '', string.punctuation)\n",
    "    x_t = [word.translate(translator) for word in x_t]    \n",
    "    # zamina liter male\n",
    "    x_t = [word.lower() for word in x_t]    \n",
    "    # usuwanie zbednych tokenow\n",
    "    x_t = [w for w in x_t if w not in nltk.corpus.stopwords.words(\"english\")+[\"nt\"]]    \n",
    "    # stemming\n",
    "    x_t = [stem_helper(word,stemmer) for word in x_t]    \n",
    "    # sklejenie do napisu\n",
    "    x_new = ' '.join(x_t)    \n",
    "    return x_new\n",
    "\n",
    "\n",
    "X_c = [clean_text(extract_content(x)) for x in X]\n",
    "X_s = [clean_text(extract_subject(x)) for x in X]\n",
    "\n",
    "X = pd.DataFrame({\"subject\":X_s, \"content\":X_c})"
   ]
  },
  {
   "cell_type": "code",
   "execution_count": 12,
   "metadata": {},
   "outputs": [
    {
     "name": "stdout",
     "output_type": "stream",
     "text": [
      "(400, 2)\n"
     ]
    }
   ],
   "source": [
    "from sklearn.model_selection import train_test_split\n",
    "X_train, X_test, y_train, y_test = train_test_split(X_c,y,test_size=400)\n",
    "#bierzemy tylko tresc - bez tytulu\n",
    "print(y_test.shape)"
   ]
  },
  {
   "cell_type": "code",
   "execution_count": 13,
   "metadata": {},
   "outputs": [],
   "source": [
    "from sklearn.feature_extraction.text import CountVectorizer\n",
    "cv =CountVectorizer(max_features=2000)\n",
    "\n",
    "cv.fit(X_train,y_train)\n",
    "\n",
    "X_train_transformed = cv.transform(X_train).todense()\n",
    "X_test_transformed = cv.transform(X_test).todense()"
   ]
  },
  {
   "cell_type": "code",
   "execution_count": 14,
   "metadata": {},
   "outputs": [
    {
     "data": {
      "text/plain": [
       "((400, 2000), (400, 2))"
      ]
     },
     "execution_count": 14,
     "metadata": {},
     "output_type": "execute_result"
    }
   ],
   "source": [
    "X_test_transformed.shape, y_test.shape"
   ]
  },
  {
   "cell_type": "code",
   "execution_count": null,
   "metadata": {},
   "outputs": [],
   "source": []
  },
  {
   "cell_type": "code",
   "execution_count": 17,
   "metadata": {},
   "outputs": [
    {
     "name": "stdout",
     "output_type": "stream",
     "text": [
      "Epoch 1/100\n",
      " 1/18 [>.............................] - ETA: 0s - loss: 19.9227 - categorical_accuracy: 0.4062INFO:tensorflow:Assets written to: wagi_20news_dense\\assets\n",
      "18/18 [==============================] - 1s 42ms/step - loss: 19.0934 - categorical_accuracy: 0.4855 - val_loss: 18.0966 - val_categorical_accuracy: 0.5720\n",
      "Epoch 2/100\n",
      " 1/18 [>.............................] - ETA: 0s - loss: 18.1272 - categorical_accuracy: 0.4688INFO:tensorflow:Assets written to: wagi_20news_dense\\assets\n",
      "18/18 [==============================] - 1s 43ms/step - loss: 17.4452 - categorical_accuracy: 0.5364 - val_loss: 16.5681 - val_categorical_accuracy: 0.6356\n",
      "Epoch 3/100\n",
      " 1/18 [>.............................] - ETA: 0s - loss: 16.6057 - categorical_accuracy: 0.5625INFO:tensorflow:Assets written to: wagi_20news_dense\\assets\n",
      "18/18 [==============================] - 1s 38ms/step - loss: 15.9645 - categorical_accuracy: 0.6164 - val_loss: 15.1649 - val_categorical_accuracy: 0.6610\n",
      "Epoch 4/100\n",
      " 1/18 [>.............................] - ETA: 0s - loss: 15.1145 - categorical_accuracy: 0.7812INFO:tensorflow:Assets written to: wagi_20news_dense\\assets\n",
      "18/18 [==============================] - 1s 35ms/step - loss: 14.6048 - categorical_accuracy: 0.6200 - val_loss: 13.8788 - val_categorical_accuracy: 0.6992\n",
      "Epoch 5/100\n",
      " 1/18 [>.............................] - ETA: 0s - loss: 14.0314 - categorical_accuracy: 0.6250INFO:tensorflow:Assets written to: wagi_20news_dense\\assets\n",
      "18/18 [==============================] - 1s 37ms/step - loss: 13.3883 - categorical_accuracy: 0.6909 - val_loss: 12.6969 - val_categorical_accuracy: 0.7331\n",
      "Epoch 6/100\n",
      " 1/18 [>.............................] - ETA: 0s - loss: 12.7900 - categorical_accuracy: 0.6562INFO:tensorflow:Assets written to: wagi_20news_dense\\assets\n",
      "18/18 [==============================] - 1s 37ms/step - loss: 12.2134 - categorical_accuracy: 0.7418 - val_loss: 11.6106 - val_categorical_accuracy: 0.7627\n",
      "Epoch 7/100\n",
      " 1/18 [>.............................] - ETA: 0s - loss: 11.6214 - categorical_accuracy: 0.7500INFO:tensorflow:Assets written to: wagi_20news_dense\\assets\n",
      "18/18 [==============================] - 1s 35ms/step - loss: 11.1575 - categorical_accuracy: 0.7764 - val_loss: 10.6114 - val_categorical_accuracy: 0.8093\n",
      "Epoch 8/100\n",
      " 1/18 [>.............................] - ETA: 0s - loss: 10.6091 - categorical_accuracy: 0.8750INFO:tensorflow:Assets written to: wagi_20news_dense\\assets\n",
      "18/18 [==============================] - 1s 36ms/step - loss: 10.1866 - categorical_accuracy: 0.8218 - val_loss: 9.6932 - val_categorical_accuracy: 0.8347\n",
      "Epoch 9/100\n",
      " 1/18 [>.............................] - ETA: 0s - loss: 9.7080 - categorical_accuracy: 0.7812INFO:tensorflow:Assets written to: wagi_20news_dense\\assets\n",
      "18/18 [==============================] - 1s 40ms/step - loss: 9.2993 - categorical_accuracy: 0.8418 - val_loss: 8.8502 - val_categorical_accuracy: 0.8559\n",
      "Epoch 10/100\n",
      " 1/18 [>.............................] - ETA: 0s - loss: 8.8969 - categorical_accuracy: 0.7500INFO:tensorflow:Assets written to: wagi_20news_dense\\assets\n",
      "18/18 [==============================] - 1s 43ms/step - loss: 8.5003 - categorical_accuracy: 0.8345 - val_loss: 8.0766 - val_categorical_accuracy: 0.8856\n",
      "Epoch 11/100\n",
      " 1/18 [>.............................] - ETA: 0s - loss: 8.0734 - categorical_accuracy: 0.8750INFO:tensorflow:Assets written to: wagi_20news_dense\\assets\n",
      "18/18 [==============================] - 1s 46ms/step - loss: 7.7368 - categorical_accuracy: 0.8818 - val_loss: 7.3671 - val_categorical_accuracy: 0.9025\n",
      "Epoch 12/100\n",
      " 1/18 [>.............................] - ETA: 0s - loss: 7.3723 - categorical_accuracy: 0.9062INFO:tensorflow:Assets written to: wagi_20news_dense\\assets\n",
      "18/18 [==============================] - 1s 39ms/step - loss: 7.0603 - categorical_accuracy: 0.8927 - val_loss: 6.7178 - val_categorical_accuracy: 0.9195\n",
      "Epoch 13/100\n",
      " 1/18 [>.............................] - ETA: 0s - loss: 6.6699 - categorical_accuracy: 0.9688INFO:tensorflow:Assets written to: wagi_20news_dense\\assets\n",
      "18/18 [==============================] - 1s 57ms/step - loss: 6.4399 - categorical_accuracy: 0.9091 - val_loss: 6.1260 - val_categorical_accuracy: 0.9153\n",
      "Epoch 14/100\n",
      " 1/18 [>.............................] - ETA: 0s - loss: 6.0894 - categorical_accuracy: 0.9062INFO:tensorflow:Assets written to: wagi_20news_dense\\assets\n",
      "18/18 [==============================] - 1s 41ms/step - loss: 5.8684 - categorical_accuracy: 0.9073 - val_loss: 5.5840 - val_categorical_accuracy: 0.9280\n",
      "Epoch 15/100\n",
      " 1/18 [>.............................] - ETA: 0s - loss: 5.5882 - categorical_accuracy: 0.9375INFO:tensorflow:Assets written to: wagi_20news_dense\\assets\n",
      "18/18 [==============================] - 1s 39ms/step - loss: 5.3515 - categorical_accuracy: 0.9036 - val_loss: 5.0882 - val_categorical_accuracy: 0.9364\n",
      "Epoch 16/100\n",
      " 1/18 [>.............................] - ETA: 0s - loss: 5.0379 - categorical_accuracy: 1.0000INFO:tensorflow:Assets written to: wagi_20news_dense\\assets\n",
      "18/18 [==============================] - 1s 40ms/step - loss: 4.8629 - categorical_accuracy: 0.9345 - val_loss: 4.6361 - val_categorical_accuracy: 0.9322\n",
      "Epoch 17/100\n",
      " 1/18 [>.............................] - ETA: 0s - loss: 4.5823 - categorical_accuracy: 0.9688INFO:tensorflow:Assets written to: wagi_20news_dense\\assets\n",
      "18/18 [==============================] - 1s 42ms/step - loss: 4.4350 - categorical_accuracy: 0.9236 - val_loss: 4.2238 - val_categorical_accuracy: 0.9364\n",
      "Epoch 18/100\n",
      " 1/18 [>.............................] - ETA: 0s - loss: 4.2749 - categorical_accuracy: 0.9062INFO:tensorflow:Assets written to: wagi_20news_dense\\assets\n",
      "18/18 [==============================] - 1s 42ms/step - loss: 4.0367 - categorical_accuracy: 0.9400 - val_loss: 3.8498 - val_categorical_accuracy: 0.9449\n",
      "Epoch 19/100\n",
      " 1/18 [>.............................] - ETA: 0s - loss: 3.7797 - categorical_accuracy: 1.0000INFO:tensorflow:Assets written to: wagi_20news_dense\\assets\n",
      "18/18 [==============================] - 1s 41ms/step - loss: 3.6695 - categorical_accuracy: 0.9600 - val_loss: 3.5095 - val_categorical_accuracy: 0.9449\n",
      "Epoch 20/100\n",
      "18/18 [==============================] - ETA: 0s - loss: 3.3431 - categorical_accuracy: 0.9600INFO:tensorflow:Assets written to: wagi_20news_dense\\assets\n",
      "18/18 [==============================] - 1s 41ms/step - loss: 3.3431 - categorical_accuracy: 0.9600 - val_loss: 3.1996 - val_categorical_accuracy: 0.9407\n",
      "Epoch 21/100\n",
      "18/18 [==============================] - ETA: 0s - loss: 3.0428 - categorical_accuracy: 0.9600INFO:tensorflow:Assets written to: wagi_20news_dense\\assets\n",
      "18/18 [==============================] - 1s 51ms/step - loss: 3.0428 - categorical_accuracy: 0.9600 - val_loss: 2.9185 - val_categorical_accuracy: 0.9407\n",
      "Epoch 22/100\n",
      " 1/18 [>.............................] - ETA: 0s - loss: 2.9089 - categorical_accuracy: 0.9375INFO:tensorflow:Assets written to: wagi_20news_dense\\assets\n",
      "18/18 [==============================] - 1s 42ms/step - loss: 2.7736 - categorical_accuracy: 0.9618 - val_loss: 2.6638 - val_categorical_accuracy: 0.9449\n",
      "Epoch 23/100\n",
      " 1/18 [>.............................] - ETA: 0s - loss: 2.6007 - categorical_accuracy: 1.0000INFO:tensorflow:Assets written to: wagi_20news_dense\\assets\n",
      "18/18 [==============================] - 1s 42ms/step - loss: 2.5370 - categorical_accuracy: 0.9545 - val_loss: 2.4321 - val_categorical_accuracy: 0.9407\n",
      "Epoch 24/100\n",
      " 1/18 [>.............................] - ETA: 0s - loss: 2.3445 - categorical_accuracy: 0.9688INFO:tensorflow:Assets written to: wagi_20news_dense\\assets\n",
      "18/18 [==============================] - 1s 38ms/step - loss: 2.3071 - categorical_accuracy: 0.9709 - val_loss: 2.2232 - val_categorical_accuracy: 0.9492\n",
      "Epoch 25/100\n",
      " 1/18 [>.............................] - ETA: 0s - loss: 2.2218 - categorical_accuracy: 0.9375INFO:tensorflow:Assets written to: wagi_20news_dense\\assets\n",
      "18/18 [==============================] - 1s 40ms/step - loss: 2.1130 - categorical_accuracy: 0.9745 - val_loss: 2.0362 - val_categorical_accuracy: 0.9449\n",
      "Epoch 26/100\n",
      " 1/18 [>.............................] - ETA: 0s - loss: 1.9703 - categorical_accuracy: 0.9375INFO:tensorflow:Assets written to: wagi_20news_dense\\assets\n"
     ]
    },
    {
     "name": "stdout",
     "output_type": "stream",
     "text": [
      "18/18 [==============================] - 1s 39ms/step - loss: 1.9256 - categorical_accuracy: 0.9691 - val_loss: 1.8652 - val_categorical_accuracy: 0.9492\n",
      "Epoch 27/100\n",
      " 1/18 [>.............................] - ETA: 0s - loss: 1.8546 - categorical_accuracy: 1.0000INFO:tensorflow:Assets written to: wagi_20news_dense\\assets\n",
      "18/18 [==============================] - 1s 40ms/step - loss: 1.7676 - categorical_accuracy: 0.9745 - val_loss: 1.7125 - val_categorical_accuracy: 0.9449\n",
      "Epoch 28/100\n",
      " 1/18 [>.............................] - ETA: 0s - loss: 1.6765 - categorical_accuracy: 1.0000INFO:tensorflow:Assets written to: wagi_20news_dense\\assets\n",
      "18/18 [==============================] - 1s 38ms/step - loss: 1.6121 - categorical_accuracy: 0.9818 - val_loss: 1.5732 - val_categorical_accuracy: 0.9492\n",
      "Epoch 29/100\n",
      " 1/18 [>.............................] - ETA: 0s - loss: 1.5444 - categorical_accuracy: 0.9375INFO:tensorflow:Assets written to: wagi_20news_dense\\assets\n",
      "18/18 [==============================] - 1s 38ms/step - loss: 1.4796 - categorical_accuracy: 0.9709 - val_loss: 1.4476 - val_categorical_accuracy: 0.9449\n",
      "Epoch 30/100\n",
      " 1/18 [>.............................] - ETA: 0s - loss: 1.4200 - categorical_accuracy: 0.9688INFO:tensorflow:Assets written to: wagi_20news_dense\\assets\n",
      "18/18 [==============================] - 1s 42ms/step - loss: 1.3626 - categorical_accuracy: 0.9691 - val_loss: 1.3342 - val_categorical_accuracy: 0.9449\n",
      "Epoch 31/100\n",
      "11/18 [=================>............] - ETA: 0s - loss: 1.2566 - categorical_accuracy: 0.9688INFO:tensorflow:Assets written to: wagi_20news_dense\\assets\n",
      "18/18 [==============================] - 1s 40ms/step - loss: 1.2446 - categorical_accuracy: 0.9709 - val_loss: 1.2324 - val_categorical_accuracy: 0.9449\n",
      "Epoch 32/100\n",
      " 1/18 [>.............................] - ETA: 0s - loss: 1.2561 - categorical_accuracy: 0.9375INFO:tensorflow:Assets written to: wagi_20news_dense\\assets\n",
      "18/18 [==============================] - 1s 62ms/step - loss: 1.1530 - categorical_accuracy: 0.9800 - val_loss: 1.1407 - val_categorical_accuracy: 0.9449\n",
      "Epoch 33/100\n",
      "18/18 [==============================] - ETA: 0s - loss: 1.0707 - categorical_accuracy: 0.9782INFO:tensorflow:Assets written to: wagi_20news_dense\\assets\n",
      "18/18 [==============================] - 1s 40ms/step - loss: 1.0707 - categorical_accuracy: 0.9782 - val_loss: 1.0574 - val_categorical_accuracy: 0.9492\n",
      "Epoch 34/100\n",
      "17/18 [===========================>..] - ETA: 0s - loss: 0.9861 - categorical_accuracy: 0.9669INFO:tensorflow:Assets written to: wagi_20news_dense\\assets\n",
      "18/18 [==============================] - 1s 41ms/step - loss: 0.9855 - categorical_accuracy: 0.9673 - val_loss: 0.9842 - val_categorical_accuracy: 0.9449\n",
      "Epoch 35/100\n",
      "17/18 [===========================>..] - ETA: 0s - loss: 0.9173 - categorical_accuracy: 0.9724INFO:tensorflow:Assets written to: wagi_20news_dense\\assets\n",
      "18/18 [==============================] - 1s 55ms/step - loss: 0.9155 - categorical_accuracy: 0.9727 - val_loss: 0.9176 - val_categorical_accuracy: 0.9449\n",
      "Epoch 36/100\n",
      " 1/18 [>.............................] - ETA: 0s - loss: 0.8665 - categorical_accuracy: 0.9688INFO:tensorflow:Assets written to: wagi_20news_dense\\assets\n",
      "18/18 [==============================] - 1s 42ms/step - loss: 0.8518 - categorical_accuracy: 0.9800 - val_loss: 0.8579 - val_categorical_accuracy: 0.9492\n",
      "Epoch 37/100\n",
      "16/18 [=========================>....] - ETA: 0s - loss: 0.7993 - categorical_accuracy: 0.9785INFO:tensorflow:Assets written to: wagi_20news_dense\\assets\n",
      "18/18 [==============================] - 1s 41ms/step - loss: 0.7964 - categorical_accuracy: 0.9800 - val_loss: 0.8041 - val_categorical_accuracy: 0.9492\n",
      "Epoch 38/100\n",
      " 1/18 [>.............................] - ETA: 0s - loss: 0.7498 - categorical_accuracy: 0.9688INFO:tensorflow:Assets written to: wagi_20news_dense\\assets\n",
      "18/18 [==============================] - 1s 39ms/step - loss: 0.7439 - categorical_accuracy: 0.9727 - val_loss: 0.7567 - val_categorical_accuracy: 0.9492\n",
      "Epoch 39/100\n",
      "17/18 [===========================>..] - ETA: 0s - loss: 0.6999 - categorical_accuracy: 0.9779INFO:tensorflow:Assets written to: wagi_20news_dense\\assets\n",
      "18/18 [==============================] - 1s 44ms/step - loss: 0.6995 - categorical_accuracy: 0.9782 - val_loss: 0.7139 - val_categorical_accuracy: 0.9492\n",
      "Epoch 40/100\n",
      " 1/18 [>.............................] - ETA: 0s - loss: 0.6823 - categorical_accuracy: 0.9688INFO:tensorflow:Assets written to: wagi_20news_dense\\assets\n",
      "18/18 [==============================] - 1s 41ms/step - loss: 0.6560 - categorical_accuracy: 0.9782 - val_loss: 0.6745 - val_categorical_accuracy: 0.9492\n",
      "Epoch 41/100\n",
      " 1/18 [>.............................] - ETA: 0s - loss: 0.6135 - categorical_accuracy: 1.0000INFO:tensorflow:Assets written to: wagi_20news_dense\\assets\n",
      "18/18 [==============================] - 1s 50ms/step - loss: 0.6168 - categorical_accuracy: 0.9782 - val_loss: 0.6386 - val_categorical_accuracy: 0.9534\n",
      "Epoch 42/100\n",
      " 1/18 [>.............................] - ETA: 0s - loss: 0.5681 - categorical_accuracy: 1.0000INFO:tensorflow:Assets written to: wagi_20news_dense\\assets\n",
      "18/18 [==============================] - 1s 40ms/step - loss: 0.5848 - categorical_accuracy: 0.9800 - val_loss: 0.6080 - val_categorical_accuracy: 0.9492\n",
      "Epoch 43/100\n",
      " 1/18 [>.............................] - ETA: 0s - loss: 0.6318 - categorical_accuracy: 0.9375INFO:tensorflow:Assets written to: wagi_20news_dense\\assets\n",
      "18/18 [==============================] - 1s 40ms/step - loss: 0.5510 - categorical_accuracy: 0.9855 - val_loss: 0.5796 - val_categorical_accuracy: 0.9534\n",
      "Epoch 44/100\n",
      " 1/18 [>.............................] - ETA: 0s - loss: 0.5707 - categorical_accuracy: 0.9688INFO:tensorflow:Assets written to: wagi_20news_dense\\assets\n",
      "18/18 [==============================] - 1s 44ms/step - loss: 0.5256 - categorical_accuracy: 0.9818 - val_loss: 0.5540 - val_categorical_accuracy: 0.9534\n",
      "Epoch 45/100\n",
      " 1/18 [>.............................] - ETA: 0s - loss: 0.5064 - categorical_accuracy: 0.9688INFO:tensorflow:Assets written to: wagi_20news_dense\\assets\n",
      "18/18 [==============================] - 1s 41ms/step - loss: 0.5065 - categorical_accuracy: 0.9836 - val_loss: 0.5302 - val_categorical_accuracy: 0.9492\n",
      "Epoch 46/100\n",
      "17/18 [===========================>..] - ETA: 0s - loss: 0.4782 - categorical_accuracy: 0.9816INFO:tensorflow:Assets written to: wagi_20news_dense\\assets\n",
      "18/18 [==============================] - 1s 40ms/step - loss: 0.4778 - categorical_accuracy: 0.9818 - val_loss: 0.5100 - val_categorical_accuracy: 0.9534\n",
      "Epoch 47/100\n",
      "18/18 [==============================] - ETA: 0s - loss: 0.4564 - categorical_accuracy: 0.9855INFO:tensorflow:Assets written to: wagi_20news_dense\\assets\n",
      "18/18 [==============================] - 1s 43ms/step - loss: 0.4564 - categorical_accuracy: 0.9855 - val_loss: 0.4909 - val_categorical_accuracy: 0.9534\n",
      "Epoch 48/100\n",
      " 1/18 [>.............................] - ETA: 0s - loss: 0.4013 - categorical_accuracy: 1.0000INFO:tensorflow:Assets written to: wagi_20news_dense\\assets\n",
      "18/18 [==============================] - 1s 45ms/step - loss: 0.4423 - categorical_accuracy: 0.9782 - val_loss: 0.4734 - val_categorical_accuracy: 0.9492\n",
      "Epoch 49/100\n",
      " 1/18 [>.............................] - ETA: 0s - loss: 0.3849 - categorical_accuracy: 1.0000INFO:tensorflow:Assets written to: wagi_20news_dense\\assets\n",
      "18/18 [==============================] - 1s 50ms/step - loss: 0.4262 - categorical_accuracy: 0.9800 - val_loss: 0.4592 - val_categorical_accuracy: 0.9534\n",
      "Epoch 50/100\n",
      " 1/18 [>.............................] - ETA: 0s - loss: 0.4078 - categorical_accuracy: 0.9688INFO:tensorflow:Assets written to: wagi_20news_dense\\assets\n",
      "18/18 [==============================] - 1s 51ms/step - loss: 0.4067 - categorical_accuracy: 0.9800 - val_loss: 0.4465 - val_categorical_accuracy: 0.9492\n",
      "Epoch 51/100\n",
      " 1/18 [>.............................] - ETA: 0s - loss: 0.3743 - categorical_accuracy: 1.0000INFO:tensorflow:Assets written to: wagi_20news_dense\\assets\n",
      "18/18 [==============================] - 1s 41ms/step - loss: 0.3933 - categorical_accuracy: 0.9873 - val_loss: 0.4327 - val_categorical_accuracy: 0.9534\n",
      "Epoch 52/100\n"
     ]
    },
    {
     "name": "stdout",
     "output_type": "stream",
     "text": [
      " 1/18 [>.............................] - ETA: 0s - loss: 0.3567 - categorical_accuracy: 1.0000INFO:tensorflow:Assets written to: wagi_20news_dense\\assets\n",
      "18/18 [==============================] - 1s 41ms/step - loss: 0.3794 - categorical_accuracy: 0.9800 - val_loss: 0.4203 - val_categorical_accuracy: 0.9534\n",
      "Epoch 53/100\n",
      " 1/18 [>.............................] - ETA: 0s - loss: 0.3919 - categorical_accuracy: 0.9688INFO:tensorflow:Assets written to: wagi_20news_dense\\assets\n",
      "18/18 [==============================] - 1s 38ms/step - loss: 0.3717 - categorical_accuracy: 0.9891 - val_loss: 0.4107 - val_categorical_accuracy: 0.9534\n",
      "Epoch 54/100\n",
      "16/18 [=========================>....] - ETA: 0s - loss: 0.3621 - categorical_accuracy: 0.9805INFO:tensorflow:Assets written to: wagi_20news_dense\\assets\n",
      "18/18 [==============================] - 1s 46ms/step - loss: 0.3591 - categorical_accuracy: 0.9818 - val_loss: 0.4003 - val_categorical_accuracy: 0.9576\n",
      "Epoch 55/100\n",
      " 1/18 [>.............................] - ETA: 0s - loss: 0.3544 - categorical_accuracy: 0.9688INFO:tensorflow:Assets written to: wagi_20news_dense\\assets\n",
      "18/18 [==============================] - 1s 42ms/step - loss: 0.3467 - categorical_accuracy: 0.9818 - val_loss: 0.3903 - val_categorical_accuracy: 0.9534\n",
      "Epoch 56/100\n",
      " 1/18 [>.............................] - ETA: 0s - loss: 0.3804 - categorical_accuracy: 0.9688INFO:tensorflow:Assets written to: wagi_20news_dense\\assets\n",
      "18/18 [==============================] - 1s 42ms/step - loss: 0.3381 - categorical_accuracy: 0.9873 - val_loss: 0.3826 - val_categorical_accuracy: 0.9534\n",
      "Epoch 57/100\n",
      " 1/18 [>.............................] - ETA: 0s - loss: 0.3400 - categorical_accuracy: 1.0000INFO:tensorflow:Assets written to: wagi_20news_dense\\assets\n",
      "18/18 [==============================] - 1s 39ms/step - loss: 0.3313 - categorical_accuracy: 0.9873 - val_loss: 0.3760 - val_categorical_accuracy: 0.9576\n",
      "Epoch 58/100\n",
      " 1/18 [>.............................] - ETA: 0s - loss: 0.3191 - categorical_accuracy: 1.0000INFO:tensorflow:Assets written to: wagi_20news_dense\\assets\n",
      "18/18 [==============================] - 1s 49ms/step - loss: 0.3254 - categorical_accuracy: 0.9836 - val_loss: 0.3699 - val_categorical_accuracy: 0.9534\n",
      "Epoch 59/100\n",
      " 1/18 [>.............................] - ETA: 0s - loss: 0.3199 - categorical_accuracy: 1.0000INFO:tensorflow:Assets written to: wagi_20news_dense\\assets\n",
      "18/18 [==============================] - 1s 44ms/step - loss: 0.3185 - categorical_accuracy: 0.9836 - val_loss: 0.3636 - val_categorical_accuracy: 0.9534\n",
      "Epoch 60/100\n",
      " 1/18 [>.............................] - ETA: 0s - loss: 0.3332 - categorical_accuracy: 0.9688INFO:tensorflow:Assets written to: wagi_20news_dense\\assets\n",
      "18/18 [==============================] - 1s 56ms/step - loss: 0.3096 - categorical_accuracy: 0.9836 - val_loss: 0.3579 - val_categorical_accuracy: 0.9534\n",
      "Epoch 61/100\n",
      "18/18 [==============================] - ETA: 0s - loss: 0.3087 - categorical_accuracy: 0.9873INFO:tensorflow:Assets written to: wagi_20news_dense\\assets\n",
      "18/18 [==============================] - 1s 50ms/step - loss: 0.3087 - categorical_accuracy: 0.9873 - val_loss: 0.3563 - val_categorical_accuracy: 0.9492\n",
      "Epoch 62/100\n",
      " 1/18 [>.............................] - ETA: 0s - loss: 0.2920 - categorical_accuracy: 1.0000INFO:tensorflow:Assets written to: wagi_20news_dense\\assets\n",
      "18/18 [==============================] - 1s 45ms/step - loss: 0.3000 - categorical_accuracy: 0.9855 - val_loss: 0.3538 - val_categorical_accuracy: 0.9492\n",
      "Epoch 63/100\n",
      " 1/18 [>.............................] - ETA: 0s - loss: 0.3035 - categorical_accuracy: 1.0000INFO:tensorflow:Assets written to: wagi_20news_dense\\assets\n",
      "18/18 [==============================] - 1s 42ms/step - loss: 0.2947 - categorical_accuracy: 0.9891 - val_loss: 0.3510 - val_categorical_accuracy: 0.9492\n",
      "Epoch 64/100\n",
      " 1/18 [>.............................] - ETA: 0s - loss: 0.2787 - categorical_accuracy: 1.0000INFO:tensorflow:Assets written to: wagi_20news_dense\\assets\n",
      "18/18 [==============================] - 1s 45ms/step - loss: 0.2915 - categorical_accuracy: 0.9855 - val_loss: 0.3487 - val_categorical_accuracy: 0.9492\n",
      "Epoch 65/100\n",
      " 1/18 [>.............................] - ETA: 0s - loss: 0.2733 - categorical_accuracy: 1.0000INFO:tensorflow:Assets written to: wagi_20news_dense\\assets\n",
      "18/18 [==============================] - 1s 59ms/step - loss: 0.2912 - categorical_accuracy: 0.9855 - val_loss: 0.3460 - val_categorical_accuracy: 0.9492\n",
      "Epoch 66/100\n",
      " 1/18 [>.............................] - ETA: 0s - loss: 0.2765 - categorical_accuracy: 1.0000INFO:tensorflow:Assets written to: wagi_20news_dense\\assets\n",
      "18/18 [==============================] - 1s 41ms/step - loss: 0.2790 - categorical_accuracy: 0.9873 - val_loss: 0.3425 - val_categorical_accuracy: 0.9492\n",
      "Epoch 67/100\n",
      " 1/18 [>.............................] - ETA: 0s - loss: 0.2990 - categorical_accuracy: 0.9375INFO:tensorflow:Assets written to: wagi_20news_dense\\assets\n",
      "18/18 [==============================] - 1s 49ms/step - loss: 0.2761 - categorical_accuracy: 0.9836 - val_loss: 0.3398 - val_categorical_accuracy: 0.9534\n",
      "Epoch 68/100\n",
      " 1/18 [>.............................] - ETA: 0s - loss: 0.2978 - categorical_accuracy: 0.9688INFO:tensorflow:Assets written to: wagi_20news_dense\\assets\n",
      "18/18 [==============================] - 1s 38ms/step - loss: 0.2778 - categorical_accuracy: 0.9855 - val_loss: 0.3384 - val_categorical_accuracy: 0.9534\n",
      "Epoch 69/100\n",
      " 1/18 [>.............................] - ETA: 0s - loss: 0.2917 - categorical_accuracy: 0.9688INFO:tensorflow:Assets written to: wagi_20news_dense\\assets\n",
      "18/18 [==============================] - 1s 45ms/step - loss: 0.2698 - categorical_accuracy: 0.9873 - val_loss: 0.3360 - val_categorical_accuracy: 0.9492\n",
      "Epoch 70/100\n",
      " 1/18 [>.............................] - ETA: 0s - loss: 0.3189 - categorical_accuracy: 0.9375INFO:tensorflow:Assets written to: wagi_20news_dense\\assets\n",
      "18/18 [==============================] - 1s 42ms/step - loss: 0.2675 - categorical_accuracy: 0.9818 - val_loss: 0.3325 - val_categorical_accuracy: 0.9534\n",
      "Epoch 71/100\n",
      " 1/18 [>.............................] - ETA: 0s - loss: 0.2775 - categorical_accuracy: 1.0000INFO:tensorflow:Assets written to: wagi_20news_dense\\assets\n",
      "18/18 [==============================] - 1s 40ms/step - loss: 0.2610 - categorical_accuracy: 0.9891 - val_loss: 0.3313 - val_categorical_accuracy: 0.9534\n",
      "Epoch 72/100\n",
      " 1/18 [>.............................] - ETA: 0s - loss: 0.2106 - categorical_accuracy: 1.0000INFO:tensorflow:Assets written to: wagi_20news_dense\\assets\n",
      "18/18 [==============================] - 1s 47ms/step - loss: 0.2595 - categorical_accuracy: 0.9891 - val_loss: 0.3305 - val_categorical_accuracy: 0.9492\n",
      "Epoch 73/100\n",
      " 1/18 [>.............................] - ETA: 0s - loss: 0.2861 - categorical_accuracy: 1.0000INFO:tensorflow:Assets written to: wagi_20news_dense\\assets\n",
      "18/18 [==============================] - 1s 42ms/step - loss: 0.2557 - categorical_accuracy: 0.9873 - val_loss: 0.3288 - val_categorical_accuracy: 0.9534\n",
      "Epoch 74/100\n",
      " 1/18 [>.............................] - ETA: 0s - loss: 0.2177 - categorical_accuracy: 1.0000INFO:tensorflow:Assets written to: wagi_20news_dense\\assets\n",
      "18/18 [==============================] - 1s 42ms/step - loss: 0.2554 - categorical_accuracy: 0.9855 - val_loss: 0.3266 - val_categorical_accuracy: 0.9534\n",
      "Epoch 75/100\n",
      " 1/18 [>.............................] - ETA: 0s - loss: 0.2191 - categorical_accuracy: 1.0000INFO:tensorflow:Assets written to: wagi_20news_dense\\assets\n",
      "18/18 [==============================] - 1s 39ms/step - loss: 0.2526 - categorical_accuracy: 0.9818 - val_loss: 0.3252 - val_categorical_accuracy: 0.9492\n",
      "Epoch 76/100\n",
      " 1/18 [>.............................] - ETA: 0s - loss: 0.2399 - categorical_accuracy: 1.0000INFO:tensorflow:Assets written to: wagi_20news_dense\\assets\n",
      "18/18 [==============================] - 1s 44ms/step - loss: 0.2459 - categorical_accuracy: 0.9891 - val_loss: 0.3244 - val_categorical_accuracy: 0.9492\n",
      "Epoch 77/100\n",
      "18/18 [==============================] - 0s 3ms/step - loss: 0.2427 - categorical_accuracy: 0.9909 - val_loss: 0.3246 - val_categorical_accuracy: 0.9492\n",
      "Epoch 78/100\n"
     ]
    },
    {
     "name": "stdout",
     "output_type": "stream",
     "text": [
      "18/18 [==============================] - 0s 3ms/step - loss: 0.2452 - categorical_accuracy: 0.9855 - val_loss: 0.3254 - val_categorical_accuracy: 0.9492\n",
      "Epoch 79/100\n",
      "18/18 [==============================] - 0s 4ms/step - loss: 0.2483 - categorical_accuracy: 0.9836 - val_loss: 0.3249 - val_categorical_accuracy: 0.9492\n"
     ]
    },
    {
     "data": {
      "text/plain": [
       "<tensorflow.python.keras.callbacks.History at 0x9d069c1c08>"
      ]
     },
     "execution_count": 17,
     "metadata": {},
     "output_type": "execute_result"
    }
   ],
   "source": [
    "from tensorflow.keras.models import Sequential\n",
    "from tensorflow.keras.layers import Dense\n",
    "from tensorflow.keras.callbacks import LearningRateScheduler\n",
    "from tensorflow.keras.callbacks import ModelCheckpoint\n",
    "from tensorflow.keras.callbacks import EarlyStopping\n",
    "from tensorflow.keras.layers import Dropout\n",
    "from tensorflow.keras.layers import BatchNormalization\n",
    "from tensorflow.keras.layers import Activation\n",
    "from tensorflow.keras.callbacks import History\n",
    "from tensorflow.keras.regularizers import l2\n",
    "\n",
    "history = History()\n",
    "model = Sequential()\n",
    "model.add(Dense(100,activation=\"relu\",input_shape=(X_train_transformed.shape[1],), kernel_regularizer=l2(0.1)))\n",
    "model.add(Dropout(0.5))\n",
    "model.add(Dense(2,activation=\"softmax\"))\n",
    "Adam = keras.optimizers.Adam(learning_rate=0.0001, beta_1=0.9, beta_2=0.999, amsgrad=False)\n",
    "model.compile(loss=\"categorical_crossentropy\",optimizer=Adam, metrics=[\"categorical_accuracy\"])\n",
    "\n",
    "\n",
    "early_stopping = EarlyStopping(patience=3)\n",
    "save_best_model = ModelCheckpoint(\"wagi_20news_dense\",save_best_only=True)\n",
    "\n",
    "model.fit(X_train_transformed,y_train, batch_size=32, validation_split=0.3, epochs=100, callbacks=[early_stopping, save_best_model, history])\n",
    "\n",
    "\n",
    "# model.load_weights(\"wagi_20news_dense.h5py\")\n",
    "# model.evaluate(X_test_transformed, y_test)"
   ]
  },
  {
   "cell_type": "code",
   "execution_count": 19,
   "metadata": {},
   "outputs": [
    {
     "data": {
      "image/png": "[encoded data removed]",
      "text/plain": [
       "<Figure size 432x288 with 1 Axes>"
      ]
     },
     "metadata": {
      "needs_background": "light"
     },
     "output_type": "display_data"
    }
   ],
   "source": [
    "import matplotlib.pyplot as plt\n",
    "plt.plot(history.history['categorical_accuracy'], label = \"tarina Adam\")\n",
    "plt.plot(history.history['val_categorical_accuracy'], label = \"test Adam\")\n",
    "\n",
    "plt.legend()\n",
    "plt.show()"
   ]
  },
  {
   "cell_type": "markdown",
   "metadata": {},
   "source": [
    "# Zad.\n",
    "\n",
    "Naucz jak najlepszy model na tym zbiorze danych."
   ]
  },
  {
   "cell_type": "code",
   "execution_count": null,
   "metadata": {},
   "outputs": [],
   "source": []
  }
 ],
 "metadata": {
  "kernelspec": {
   "display_name": "Python 3",
   "language": "python",
   "name": "python3"
  },
  "language_info": {
   "codemirror_mode": {
    "name": "ipython",
    "version": 3
   },
   "file_extension": ".py",
   "mimetype": "text/x-python",
   "name": "python",
   "nbconvert_exporter": "python",
   "pygments_lexer": "ipython3",
   "version": "3.7.6"
  }
 },
 "nbformat": 4,
 "nbformat_minor": 2
}
