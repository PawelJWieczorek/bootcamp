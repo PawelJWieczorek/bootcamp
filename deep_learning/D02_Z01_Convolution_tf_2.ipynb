{
 "cells": [
  {
   "cell_type": "markdown",
   "metadata": {},
   "source": [
    "# Konwolucyjne sieci neuronowe\n",
    "\n",
    "## Convolution neural networks, CNN\n",
    "\n",
    "# Filtry jako ekstraktory informacji\n",
    "\n",
    "<img src=\"Grafika/Filter.png\" width=\"550\">\n",
    "\n",
    "<img src=\"Grafika/OriginalAndFilter.png\" width=\"550\">\n",
    "\n",
    "<img src=\"Grafika/FirstPixelMulitiplication.png\" width=\"550\">\n",
    "\n",
    "<img src=\"Grafika/SecondMultiplication.png\" width=\"550\">\n",
    "\n",
    "Źródło: https://adeshpande3.github.io/adeshpande3.github.io/A-Beginner's-Guide-To-Understanding-Convolutional-Neural-Networks/"
   ]
  },
  {
   "cell_type": "markdown",
   "metadata": {},
   "source": [
    "### Filtrowanie - konwolucja (splot):\n",
    "\n",
    "<img src=\"Grafika/matrixConvolution.jpg\" width=\"450\">\n",
    "\n",
    "Źródło: https://i.stack.imgur.com/SKgim.jpga"
   ]
  },
  {
   "cell_type": "markdown",
   "metadata": {},
   "source": [
    "### Warstwa konwolucyjna\n",
    "\n",
    "Warstawa konwolucyjna analizuje obraz \"kawałek po kawałku\" i zwraca informację o poszczególnych obszarach przy użyciu filtrów.\n",
    "\n",
    "Warstwa konwolucyjna składa się z K filtrów i zwraca K \"tablic\" powstałych przez przetworzenie wejścia kolejnymi filtrami.\n",
    "\n",
    "Operacja splotu (konwolucja):\n",
    "\n",
    "<img src=\"Grafika/Convolution_schematic.gif\" width=\"450\">\n",
    "\n",
    "Źródło: http://deeplearning.stanford.edu/wiki/images/6/6c/Convolution_schematic.gif"
   ]
  },
  {
   "cell_type": "markdown",
   "metadata": {},
   "source": [
    "### W przypadku macierzy trójwymiarowych, filtrowanie (2D) wygląda tak:\n",
    "\n",
    "<img src=\"https://i.stack.imgur.com/FjvuN.gif\" width=\"550\">"
   ]
  },
  {
   "cell_type": "markdown",
   "metadata": {},
   "source": [
    "### Sieć konwolucyjna uczy się ekstrachować istotne \"informacje\" - parametrami sieci są wagi w filtrach.\n",
    "\n",
    "Czyli sieć sama uczy się tego, co jest istotne w danych dla naszego celu.\n",
    "\n",
    "W sieciach konwolucyjnych na wyjście splotu nakłada się funkcję aktywacji. Z reguły jest to ReLU:\n",
    "\n",
    "<img src=\"Grafika/relu.png\" width=\"350\">\n",
    "\n",
    "Źródło: https://ml4a.github.io/images/figures/relu.png\n",
    "\n",
    "Takie przekształcenie można interpretować w następujący sposób: jeżeli w danym obszarze jest coś co dany filtr \"rozpoznaje\" (wartość splotu większa od 0), to zwracamy po prostu wynik splotu. Natomiast jeśli dane nie pasują do danego filtra (wartość ujemna), to niezaleznie od tego co w tych danych jest, zwracamy 0, które mówi, że nie ma tego czego szukamy.\n",
    "\n",
    "## Pooling (subsampling)\n",
    "\n",
    "Pooling to agregacja informacji - zamiast przechowywać całą tablicę, którą zwrócił filtr, wyciągamy sobie po jednej \"informacji\" z podobszarów. W ten sposób otrzymujemy tablicę o zredukowanym wymiarze.\n",
    "\n",
    "MaxPooling:\n",
    "\n",
    "<img src=\"Grafika/MaxPool.png\" width=\"550\">\n",
    "\n",
    "Źródło: https://adeshpande3.github.io/assets/MaxPool.png\n",
    "\n",
    "Jaką informację wyekstrahuje \"max pooling\"?\n",
    "\n",
    "A jaką \"average pooling\"?\n",
    "\n",
    "W praktyce z reguły po każdej warstwie konwolucyjnej daje się max pooling."
   ]
  },
  {
   "cell_type": "markdown",
   "metadata": {},
   "source": [
    "### Wielowarstwowa sieć konwolucyjna\n",
    "\n",
    "Wielowarstwowe sieci konwolucyjne wykorzystują wielokrotne składanie operacji filtrowania i uczą się wykrywać bardzo złożone zależności.\n",
    "\n",
    "Wówczas każda kolejna warstwa w jakiś sposób agreguje informacje z poprzedniej warstwy do ogólniejszego poziomu. Przykladowa interpretacja w kontekście klasyfikacji czy na danym zdjęciu jest człowiek:\n",
    "- pierwsza warstwa: rozpoznawianie kształtów/konturów\n",
    "- druga warstwa: detekcja części ciała\n",
    "- trzecia: detekcja człowiek\n",
    "\n",
    "\n",
    "<img src=\"Grafika/LeNet.png\" width=\"700\">\n",
    "Źródło: https://adeshpande3.github.io/assets/LeNet.png\"\n",
    "\n",
    "### Wyjście sieci\n",
    "\n",
    "Ostatnia warsta konwolucyjna (lub pooling) jest rozwijana do wektora. Ten wektor jest przepuszczany przez warstwy dense, które prowadzą do predykcji. Oczywiście można dokonywać predykcji bezpośrednio z rozwiniętego wektora."
   ]
  },
  {
   "cell_type": "markdown",
   "metadata": {},
   "source": [
    "### Uwaga. Filtr dla obrazka 2D jest tablicą 2D. Natomiast kolejne warstwy są 3D - dochodzi wymiar liczby filtrów. Dlatego dalsze filtry są kostami 3D, które mają głębokość równą liczbie filtrów w poprzedniej warstwie.\n",
    "\n",
    "<img src=\"Grafika/conv3D.jpg\" width=\"700\">\n",
    "\n",
    "Źródło: https://www.mathworks.com/content/mathworks/www/en/discovery/convolutional-neural-network/_jcr_content/mainParsys/image_copy.img.jpg/1497876372993.jpg\n",
    "\n",
    "Naturalnie, jeżeli na wejściu mamy obiekt więcej niż dwu-wymiarowy to już pierwsza warstwa używa filtrów, które są kostkami."
   ]
  },
  {
   "cell_type": "markdown",
   "metadata": {},
   "source": [
    "## Strides - wielkość kroku przesunięcia\n",
    "\n",
    "Określa dokładność z jaką chcemy skanować dane.\n",
    "\n",
    "Strides = (1,1)\n",
    "\n",
    "<img src=\"Grafika/Stride1.png\" width=\"600\">\n",
    "\n",
    "Strides = (2,2)\n",
    "\n",
    "<img src=\"Grafika/Stride2.png\" width=\"600\">\n",
    "\n",
    "Źródło: https://adeshpande3.github.io/adeshpande3.github.io/A-Beginner's-Guide-To-Understanding-Convolutional-Neural-Networks-Part-2/\n"
   ]
  },
  {
   "cell_type": "markdown",
   "metadata": {},
   "source": [
    "# Zad\n",
    "\n",
    "Pobierzmy zbiór danych\n",
    "\n",
    "http://scikit-learn.org/0.15/auto_examples/applications/face_recognition.html"
   ]
  },
  {
   "cell_type": "code",
   "execution_count": 1,
   "metadata": {},
   "outputs": [
    {
     "name": "stdout",
     "output_type": "stream",
     "text": [
      "2.3.1\n",
      "2.4.0\n"
     ]
    }
   ],
   "source": [
    "import tensorflow as tf\n",
    "from tensorflow import keras as keras\n",
    "print(tf.__version__)\n",
    "\n",
    "print(keras.__version__)"
   ]
  },
  {
   "cell_type": "code",
   "execution_count": 4,
   "metadata": {},
   "outputs": [],
   "source": [
    "import numpy as np\n",
    "import pandas as pd\n",
    "import os\n",
    "# from tensorflow.keras.utils import np_utils\n",
    "from tensorflow.python.keras.utils import np_utils\n",
    "from sklearn.datasets import fetch_lfw_people\n",
    "\n",
    "lfw_people = fetch_lfw_people(min_faces_per_person=70, resize=0.4)\n",
    "n_samples, h, w = lfw_people.images.shape\n",
    "X = lfw_people.data\n",
    "n_features = X.shape[1]\n",
    "\n",
    "y = lfw_people.target\n",
    "target_names = lfw_people.target_names"
   ]
  },
  {
   "cell_type": "code",
   "execution_count": 5,
   "metadata": {},
   "outputs": [
    {
     "data": {
      "text/plain": [
       "array([254.      , 254.      , 251.66667 , ...,  87.333336,  88.666664,\n",
       "        86.666664], dtype=float32)"
      ]
     },
     "execution_count": 5,
     "metadata": {},
     "output_type": "execute_result"
    }
   ],
   "source": [
    "X[0] # wektor - pozniej zamienimy na macierz, bo to jest obraz"
   ]
  },
  {
   "cell_type": "code",
   "execution_count": 6,
   "metadata": {},
   "outputs": [
    {
     "data": {
      "text/plain": [
       "(1288, 1850)"
      ]
     },
     "execution_count": 6,
     "metadata": {},
     "output_type": "execute_result"
    }
   ],
   "source": [
    "X.shape"
   ]
  },
  {
   "cell_type": "code",
   "execution_count": 7,
   "metadata": {},
   "outputs": [
    {
     "data": {
      "text/plain": [
       "(array([0, 1, 2, 3, 4, 5, 6], dtype=int64),\n",
       " array([ 77, 236, 121, 530, 109,  71, 144], dtype=int64))"
      ]
     },
     "execution_count": 7,
     "metadata": {},
     "output_type": "execute_result"
    }
   ],
   "source": [
    "np.unique(y,return_counts=True)"
   ]
  },
  {
   "cell_type": "code",
   "execution_count": 8,
   "metadata": {},
   "outputs": [
    {
     "data": {
      "text/plain": [
       "array(['Ariel Sharon', 'Colin Powell', 'Donald Rumsfeld', 'George W Bush',\n",
       "       'Gerhard Schroeder', 'Hugo Chavez', 'Tony Blair'], dtype='<U17')"
      ]
     },
     "execution_count": 8,
     "metadata": {},
     "output_type": "execute_result"
    }
   ],
   "source": [
    "target_names"
   ]
  },
  {
   "cell_type": "code",
   "execution_count": 9,
   "metadata": {},
   "outputs": [
    {
     "data": {
      "text/plain": [
       "array([[0., 0., 0., 0., 0., 1., 0.],\n",
       "       [0., 0., 0., 0., 0., 0., 1.],\n",
       "       [0., 0., 0., 1., 0., 0., 0.],\n",
       "       [0., 1., 0., 0., 0., 0., 0.],\n",
       "       [1., 0., 0., 0., 0., 0., 0.]], dtype=float32)"
      ]
     },
     "execution_count": 9,
     "metadata": {},
     "output_type": "execute_result"
    }
   ],
   "source": [
    "# przygotowanie y\n",
    "y = np_utils.to_categorical(y)\n",
    "y[:5]"
   ]
  },
  {
   "cell_type": "code",
   "execution_count": 10,
   "metadata": {},
   "outputs": [
    {
     "data": {
      "text/plain": [
       "7"
      ]
     },
     "execution_count": 10,
     "metadata": {},
     "output_type": "execute_result"
    }
   ],
   "source": [
    "n_classes = y.shape[1]\n",
    "n_classes"
   ]
  },
  {
   "cell_type": "code",
   "execution_count": 11,
   "metadata": {},
   "outputs": [
    {
     "name": "stdout",
     "output_type": "stream",
     "text": [
      "(772, 50, 37, 1)\n"
     ]
    }
   ],
   "source": [
    "from sklearn.model_selection import train_test_split\n",
    "\n",
    "X_train, X_test, y_train, y_test = train_test_split(X, y, test_size=0.4)\n",
    "\n",
    "X_train = np.array([x.reshape((h, w, 1)) for x in X_train])\n",
    "X_test = np.array([x.reshape((h, w, 1)) for x in X_test])\n",
    "print(X_train.shape)"
   ]
  },
  {
   "cell_type": "markdown",
   "metadata": {},
   "source": [
    "### skalowanie X"
   ]
  },
  {
   "cell_type": "code",
   "execution_count": 12,
   "metadata": {},
   "outputs": [],
   "source": [
    "# skalowanie X\n",
    "\n",
    "X_train = X_train/255\n",
    "X_test = X_test/255"
   ]
  },
  {
   "cell_type": "code",
   "execution_count": 13,
   "metadata": {},
   "outputs": [
    {
     "data": {
      "image/png": "[encoded data removed]",
      "text/plain": [
       "<Figure size 518.4x518.4 with 12 Axes>"
      ]
     },
     "metadata": {},
     "output_type": "display_data"
    }
   ],
   "source": [
    "import matplotlib.pyplot as plt\n",
    "\n",
    "images = X_train[:12]\n",
    "n_col = 4\n",
    "n_row = 3\n",
    "plt.figure(figsize=(1.8 * n_col, 2.4 * n_row))\n",
    "plt.subplots_adjust(bottom=0, left=.01, right=.99, top=.90, hspace=.35)\n",
    "for i in range(n_row * n_col):\n",
    "    plt.subplot(n_row, n_col, i + 1)\n",
    "    plt.imshow(images[i][:,:,0], cmap=plt.cm.gray)\n",
    "    plt.xticks(())\n",
    "    plt.yticks(())\n",
    "    \n",
    "plt.show()"
   ]
  },
  {
   "cell_type": "code",
   "execution_count": 14,
   "metadata": {},
   "outputs": [
    {
     "name": "stdout",
     "output_type": "stream",
     "text": [
      "(772, 50, 37, 1)\n",
      "(772, 7)\n",
      "(516, 50, 37, 1)\n"
     ]
    }
   ],
   "source": [
    "print(X_train.shape)\n",
    "print(y_train.shape)\n",
    "print(X_test.shape)"
   ]
  },
  {
   "cell_type": "markdown",
   "metadata": {},
   "source": [
    "# Zad. (Punkt odniesienia)\n",
    "\n",
    "Sprawdź klasyfikację przy użyciu perceptrona - sieć 0-warstwowa (lub 1-warstwową licząc wyjście jako warstwę). Pamiętaj, że, aby uruchomić warstwę dense na danych, które nie są wektorem trzeba je \"rozwinąć\" przy uzyciu \"warstwy\" (operacji) Flatten. "
   ]
  },
  {
   "cell_type": "code",
   "execution_count": 15,
   "metadata": {},
   "outputs": [
    {
     "name": "stdout",
     "output_type": "stream",
     "text": [
      "Model: \"sequential\"\n",
      "_________________________________________________________________\n",
      "Layer (type)                 Output Shape              Param #   \n",
      "=================================================================\n",
      "flatten (Flatten)            (None, 1850)              0         \n",
      "_________________________________________________________________\n",
      "dense (Dense)                (None, 7)                 12957     \n",
      "=================================================================\n",
      "Total params: 12,957\n",
      "Trainable params: 12,957\n",
      "Non-trainable params: 0\n",
      "_________________________________________________________________\n",
      "Epoch 1/100\n",
      " 1/19 [>.............................] - ETA: 0s - loss: 2.0085 - categorical_accuracy: 0.0625WARNING:tensorflow:Callbacks method `on_test_batch_end` is slow compared to the batch time (batch time: 0.0000s vs `on_test_batch_end` time: 0.0010s). Check your callbacks.\n",
      "19/19 [==============================] - 0s 10ms/step - loss: 1.7825 - categorical_accuracy: 0.3506 - val_loss: 1.5823 - val_categorical_accuracy: 0.4663\n",
      "Epoch 2/100\n",
      "19/19 [==============================] - 0s 2ms/step - loss: 1.7236 - categorical_accuracy: 0.3713 - val_loss: 1.4474 - val_categorical_accuracy: 0.5026\n",
      "Epoch 3/100\n",
      "19/19 [==============================] - 0s 2ms/step - loss: 1.5986 - categorical_accuracy: 0.4041 - val_loss: 1.5590 - val_categorical_accuracy: 0.3057\n",
      "Epoch 4/100\n",
      "19/19 [==============================] - 0s 2ms/step - loss: 1.5767 - categorical_accuracy: 0.4024 - val_loss: 1.4222 - val_categorical_accuracy: 0.5803\n",
      "Epoch 5/100\n",
      "19/19 [==============================] - 0s 2ms/step - loss: 1.5599 - categorical_accuracy: 0.4491 - val_loss: 1.4698 - val_categorical_accuracy: 0.5751\n",
      "Epoch 6/100\n",
      "19/19 [==============================] - 0s 2ms/step - loss: 1.4993 - categorical_accuracy: 0.4525 - val_loss: 1.3604 - val_categorical_accuracy: 0.5026\n",
      "Epoch 7/100\n",
      "19/19 [==============================] - 0s 2ms/step - loss: 1.4812 - categorical_accuracy: 0.4680 - val_loss: 1.3228 - val_categorical_accuracy: 0.5181\n",
      "Epoch 8/100\n",
      "19/19 [==============================] - 0s 2ms/step - loss: 1.4043 - categorical_accuracy: 0.4870 - val_loss: 1.2533 - val_categorical_accuracy: 0.6166\n",
      "Epoch 9/100\n",
      "19/19 [==============================] - 0s 2ms/step - loss: 1.3309 - categorical_accuracy: 0.5060 - val_loss: 1.2744 - val_categorical_accuracy: 0.5699\n",
      "Epoch 10/100\n",
      "19/19 [==============================] - 0s 2ms/step - loss: 1.3203 - categorical_accuracy: 0.5406 - val_loss: 1.2437 - val_categorical_accuracy: 0.5181\n",
      "Epoch 11/100\n",
      "19/19 [==============================] - 0s 2ms/step - loss: 1.2748 - categorical_accuracy: 0.5216 - val_loss: 1.2514 - val_categorical_accuracy: 0.5078\n",
      "Epoch 12/100\n",
      "19/19 [==============================] - 0s 3ms/step - loss: 1.2299 - categorical_accuracy: 0.5423 - val_loss: 1.2227 - val_categorical_accuracy: 0.5855\n",
      "Epoch 13/100\n",
      "19/19 [==============================] - 0s 2ms/step - loss: 1.2168 - categorical_accuracy: 0.5544 - val_loss: 1.2394 - val_categorical_accuracy: 0.5855\n",
      "Epoch 14/100\n",
      "19/19 [==============================] - 0s 2ms/step - loss: 1.1826 - categorical_accuracy: 0.6114 - val_loss: 1.1175 - val_categorical_accuracy: 0.6269\n",
      "Epoch 15/100\n",
      "19/19 [==============================] - 0s 3ms/step - loss: 1.1292 - categorical_accuracy: 0.6079 - val_loss: 1.1429 - val_categorical_accuracy: 0.6114\n",
      "Epoch 16/100\n",
      "19/19 [==============================] - 0s 2ms/step - loss: 1.1230 - categorical_accuracy: 0.6149 - val_loss: 1.1137 - val_categorical_accuracy: 0.6010\n",
      "Epoch 17/100\n",
      "19/19 [==============================] - 0s 2ms/step - loss: 1.1316 - categorical_accuracy: 0.5803 - val_loss: 1.1332 - val_categorical_accuracy: 0.6477\n",
      "Epoch 18/100\n",
      "19/19 [==============================] - 0s 2ms/step - loss: 1.1209 - categorical_accuracy: 0.6373 - val_loss: 1.1292 - val_categorical_accuracy: 0.6373\n",
      "Epoch 19/100\n",
      "19/19 [==============================] - 0s 2ms/step - loss: 1.0547 - categorical_accuracy: 0.6459 - val_loss: 1.0953 - val_categorical_accuracy: 0.6580\n",
      "Epoch 20/100\n",
      "19/19 [==============================] - 0s 2ms/step - loss: 1.0389 - categorical_accuracy: 0.6425 - val_loss: 1.0893 - val_categorical_accuracy: 0.6218\n",
      "Epoch 21/100\n",
      "19/19 [==============================] - 0s 2ms/step - loss: 1.0014 - categorical_accuracy: 0.6373 - val_loss: 1.0568 - val_categorical_accuracy: 0.6425\n",
      "Epoch 22/100\n",
      "19/19 [==============================] - 0s 2ms/step - loss: 0.9543 - categorical_accuracy: 0.6753 - val_loss: 1.0695 - val_categorical_accuracy: 0.6166\n",
      "Epoch 23/100\n",
      "19/19 [==============================] - 0s 3ms/step - loss: 0.9583 - categorical_accuracy: 0.7340 - val_loss: 1.0824 - val_categorical_accuracy: 0.6528\n",
      "Epoch 24/100\n",
      "19/19 [==============================] - 0s 2ms/step - loss: 0.9675 - categorical_accuracy: 0.6995 - val_loss: 1.0234 - val_categorical_accuracy: 0.6321\n",
      "Epoch 25/100\n",
      "19/19 [==============================] - 0s 2ms/step - loss: 0.9356 - categorical_accuracy: 0.6874 - val_loss: 1.0558 - val_categorical_accuracy: 0.6269\n",
      "Epoch 26/100\n",
      "19/19 [==============================] - 0s 2ms/step - loss: 0.9408 - categorical_accuracy: 0.6960 - val_loss: 1.0918 - val_categorical_accuracy: 0.6321\n",
      "Epoch 27/100\n",
      "19/19 [==============================] - 0s 2ms/step - loss: 0.9042 - categorical_accuracy: 0.7340 - val_loss: 1.0829 - val_categorical_accuracy: 0.6373\n",
      "Epoch 28/100\n",
      "19/19 [==============================] - 0s 2ms/step - loss: 0.8960 - categorical_accuracy: 0.7185 - val_loss: 1.0181 - val_categorical_accuracy: 0.6736\n",
      "Epoch 29/100\n",
      "19/19 [==============================] - 0s 2ms/step - loss: 0.8740 - categorical_accuracy: 0.7668 - val_loss: 1.0639 - val_categorical_accuracy: 0.6010\n",
      "Epoch 30/100\n",
      "19/19 [==============================] - 0s 2ms/step - loss: 0.8899 - categorical_accuracy: 0.7306 - val_loss: 0.9597 - val_categorical_accuracy: 0.6269\n",
      "Epoch 31/100\n",
      "19/19 [==============================] - 0s 2ms/step - loss: 0.8876 - categorical_accuracy: 0.7133 - val_loss: 1.1249 - val_categorical_accuracy: 0.5596\n",
      "Epoch 32/100\n",
      "19/19 [==============================] - 0s 2ms/step - loss: 0.8720 - categorical_accuracy: 0.7047 - val_loss: 1.0926 - val_categorical_accuracy: 0.6788\n",
      "Epoch 33/100\n",
      "19/19 [==============================] - 0s 2ms/step - loss: 0.8737 - categorical_accuracy: 0.7306 - val_loss: 1.0379 - val_categorical_accuracy: 0.6632\n",
      "Epoch 34/100\n",
      "19/19 [==============================] - 0s 3ms/step - loss: 0.8514 - categorical_accuracy: 0.7340 - val_loss: 0.9434 - val_categorical_accuracy: 0.7047\n",
      "Epoch 35/100\n",
      "19/19 [==============================] - 0s 3ms/step - loss: 0.7765 - categorical_accuracy: 0.7876 - val_loss: 0.9043 - val_categorical_accuracy: 0.6425\n",
      "Epoch 36/100\n",
      "19/19 [==============================] - 0s 3ms/step - loss: 0.7885 - categorical_accuracy: 0.7565 - val_loss: 0.9143 - val_categorical_accuracy: 0.6736\n",
      "Epoch 37/100\n",
      "19/19 [==============================] - 0s 3ms/step - loss: 0.7685 - categorical_accuracy: 0.7807 - val_loss: 0.8998 - val_categorical_accuracy: 0.7150\n",
      "Epoch 38/100\n",
      "19/19 [==============================] - 0s 3ms/step - loss: 0.7699 - categorical_accuracy: 0.7720 - val_loss: 0.8990 - val_categorical_accuracy: 0.6839\n",
      "Epoch 39/100\n",
      "19/19 [==============================] - 0s 2ms/step - loss: 0.7520 - categorical_accuracy: 0.7686 - val_loss: 1.0088 - val_categorical_accuracy: 0.6684\n",
      "Epoch 40/100\n",
      "19/19 [==============================] - 0s 2ms/step - loss: 0.7632 - categorical_accuracy: 0.7703 - val_loss: 0.9032 - val_categorical_accuracy: 0.6995\n",
      "Epoch 41/100\n",
      "19/19 [==============================] - 0s 2ms/step - loss: 0.6986 - categorical_accuracy: 0.8117 - val_loss: 0.8806 - val_categorical_accuracy: 0.6632\n",
      "Epoch 42/100\n",
      "19/19 [==============================] - 0s 3ms/step - loss: 0.7318 - categorical_accuracy: 0.7720 - val_loss: 0.8762 - val_categorical_accuracy: 0.7150\n",
      "Epoch 43/100\n",
      "19/19 [==============================] - 0s 2ms/step - loss: 0.6890 - categorical_accuracy: 0.8169 - val_loss: 0.8646 - val_categorical_accuracy: 0.7098\n",
      "Epoch 44/100\n",
      "19/19 [==============================] - 0s 2ms/step - loss: 0.7014 - categorical_accuracy: 0.8083 - val_loss: 0.8671 - val_categorical_accuracy: 0.7202\n",
      "Epoch 45/100\n"
     ]
    },
    {
     "name": "stdout",
     "output_type": "stream",
     "text": [
      "19/19 [==============================] - 0s 2ms/step - loss: 0.7201 - categorical_accuracy: 0.7824 - val_loss: 0.9148 - val_categorical_accuracy: 0.7098\n",
      "Epoch 46/100\n",
      "19/19 [==============================] - 0s 2ms/step - loss: 0.7264 - categorical_accuracy: 0.7876 - val_loss: 0.8650 - val_categorical_accuracy: 0.6943\n",
      "Epoch 47/100\n",
      "19/19 [==============================] - 0s 2ms/step - loss: 0.6899 - categorical_accuracy: 0.8031 - val_loss: 0.8637 - val_categorical_accuracy: 0.6788\n",
      "Epoch 48/100\n",
      "19/19 [==============================] - 0s 2ms/step - loss: 0.6425 - categorical_accuracy: 0.8325 - val_loss: 0.8373 - val_categorical_accuracy: 0.7150\n",
      "Epoch 49/100\n",
      "19/19 [==============================] - 0s 3ms/step - loss: 0.6659 - categorical_accuracy: 0.8117 - val_loss: 0.9045 - val_categorical_accuracy: 0.6684\n",
      "Epoch 50/100\n",
      "19/19 [==============================] - 0s 2ms/step - loss: 0.6420 - categorical_accuracy: 0.8290 - val_loss: 0.8468 - val_categorical_accuracy: 0.7254\n",
      "Epoch 51/100\n",
      "19/19 [==============================] - 0s 2ms/step - loss: 0.6332 - categorical_accuracy: 0.8411 - val_loss: 0.8803 - val_categorical_accuracy: 0.6839\n",
      "Epoch 52/100\n",
      "19/19 [==============================] - 0s 2ms/step - loss: 0.6595 - categorical_accuracy: 0.7997 - val_loss: 0.8613 - val_categorical_accuracy: 0.7358\n",
      "Epoch 53/100\n",
      "19/19 [==============================] - 0s 2ms/step - loss: 0.6369 - categorical_accuracy: 0.8273 - val_loss: 0.8451 - val_categorical_accuracy: 0.7565\n",
      "Epoch 54/100\n",
      "19/19 [==============================] - 0s 2ms/step - loss: 0.6237 - categorical_accuracy: 0.8238 - val_loss: 0.8374 - val_categorical_accuracy: 0.7150\n",
      "Epoch 55/100\n",
      "19/19 [==============================] - 0s 2ms/step - loss: 0.6376 - categorical_accuracy: 0.8204 - val_loss: 0.8483 - val_categorical_accuracy: 0.7409\n",
      "Epoch 56/100\n",
      "19/19 [==============================] - 0s 2ms/step - loss: 0.6510 - categorical_accuracy: 0.8135 - val_loss: 0.8892 - val_categorical_accuracy: 0.7150\n",
      "Epoch 57/100\n",
      "19/19 [==============================] - 0s 2ms/step - loss: 0.6074 - categorical_accuracy: 0.8377 - val_loss: 0.8228 - val_categorical_accuracy: 0.7254\n",
      "Epoch 58/100\n",
      "19/19 [==============================] - 0s 3ms/step - loss: 0.5708 - categorical_accuracy: 0.8687 - val_loss: 0.8619 - val_categorical_accuracy: 0.6891\n",
      "Epoch 59/100\n",
      "19/19 [==============================] - 0s 2ms/step - loss: 0.5802 - categorical_accuracy: 0.8463 - val_loss: 0.8168 - val_categorical_accuracy: 0.7202\n",
      "Epoch 60/100\n",
      "19/19 [==============================] - 0s 2ms/step - loss: 0.5785 - categorical_accuracy: 0.8549 - val_loss: 0.8329 - val_categorical_accuracy: 0.7254\n",
      "Epoch 61/100\n",
      "19/19 [==============================] - 0s 2ms/step - loss: 0.5587 - categorical_accuracy: 0.8705 - val_loss: 0.8524 - val_categorical_accuracy: 0.7098\n",
      "Epoch 62/100\n",
      "19/19 [==============================] - 0s 2ms/step - loss: 0.5517 - categorical_accuracy: 0.8618 - val_loss: 0.8077 - val_categorical_accuracy: 0.7202\n",
      "Epoch 63/100\n",
      "19/19 [==============================] - 0s 2ms/step - loss: 0.5801 - categorical_accuracy: 0.8446 - val_loss: 0.8976 - val_categorical_accuracy: 0.7047\n",
      "Epoch 64/100\n",
      "19/19 [==============================] - 0s 2ms/step - loss: 0.5864 - categorical_accuracy: 0.8307 - val_loss: 0.7969 - val_categorical_accuracy: 0.7358\n",
      "Epoch 65/100\n",
      "19/19 [==============================] - 0s 2ms/step - loss: 0.5663 - categorical_accuracy: 0.8394 - val_loss: 0.8597 - val_categorical_accuracy: 0.7150\n",
      "Epoch 66/100\n",
      "19/19 [==============================] - 0s 2ms/step - loss: 0.5449 - categorical_accuracy: 0.8566 - val_loss: 0.8183 - val_categorical_accuracy: 0.6995\n",
      "Epoch 67/100\n",
      "19/19 [==============================] - 0s 2ms/step - loss: 0.5402 - categorical_accuracy: 0.8687 - val_loss: 0.8356 - val_categorical_accuracy: 0.6943\n",
      "Epoch 68/100\n",
      "19/19 [==============================] - 0s 2ms/step - loss: 0.5511 - categorical_accuracy: 0.8428 - val_loss: 0.9172 - val_categorical_accuracy: 0.6839\n",
      "Epoch 69/100\n",
      "19/19 [==============================] - 0s 2ms/step - loss: 0.5876 - categorical_accuracy: 0.8325 - val_loss: 0.8875 - val_categorical_accuracy: 0.6839\n",
      "Epoch 70/100\n",
      "19/19 [==============================] - 0s 2ms/step - loss: 0.5398 - categorical_accuracy: 0.8549 - val_loss: 0.8520 - val_categorical_accuracy: 0.6839\n",
      "Epoch 71/100\n",
      "19/19 [==============================] - 0s 2ms/step - loss: 0.5666 - categorical_accuracy: 0.8394 - val_loss: 0.8708 - val_categorical_accuracy: 0.7202\n",
      "Epoch 72/100\n",
      "19/19 [==============================] - 0s 2ms/step - loss: 0.5290 - categorical_accuracy: 0.8584 - val_loss: 0.8261 - val_categorical_accuracy: 0.7098\n",
      "Epoch 73/100\n",
      "19/19 [==============================] - 0s 2ms/step - loss: 0.5100 - categorical_accuracy: 0.8808 - val_loss: 0.7778 - val_categorical_accuracy: 0.7409\n",
      "Epoch 74/100\n",
      "19/19 [==============================] - 0s 2ms/step - loss: 0.5028 - categorical_accuracy: 0.8774 - val_loss: 0.8176 - val_categorical_accuracy: 0.7150\n",
      "Epoch 75/100\n",
      "19/19 [==============================] - 0s 3ms/step - loss: 0.5248 - categorical_accuracy: 0.8463 - val_loss: 0.8271 - val_categorical_accuracy: 0.7306\n",
      "Epoch 76/100\n",
      "19/19 [==============================] - 0s 2ms/step - loss: 0.4959 - categorical_accuracy: 0.8826 - val_loss: 0.8010 - val_categorical_accuracy: 0.7254\n",
      "Epoch 77/100\n",
      "19/19 [==============================] - 0s 2ms/step - loss: 0.4842 - categorical_accuracy: 0.8929 - val_loss: 0.7765 - val_categorical_accuracy: 0.7565\n",
      "Epoch 78/100\n",
      "19/19 [==============================] - 0s 2ms/step - loss: 0.4982 - categorical_accuracy: 0.8722 - val_loss: 0.7929 - val_categorical_accuracy: 0.7202\n",
      "Epoch 79/100\n",
      "19/19 [==============================] - 0s 2ms/step - loss: 0.4790 - categorical_accuracy: 0.8843 - val_loss: 0.8137 - val_categorical_accuracy: 0.7202\n",
      "Epoch 80/100\n",
      "19/19 [==============================] - 0s 2ms/step - loss: 0.4799 - categorical_accuracy: 0.8877 - val_loss: 0.8214 - val_categorical_accuracy: 0.7461\n",
      "Epoch 81/100\n",
      "19/19 [==============================] - 0s 2ms/step - loss: 0.4746 - categorical_accuracy: 0.8895 - val_loss: 0.7826 - val_categorical_accuracy: 0.7306\n",
      "Epoch 82/100\n",
      "19/19 [==============================] - 0s 2ms/step - loss: 0.4800 - categorical_accuracy: 0.8774 - val_loss: 0.8273 - val_categorical_accuracy: 0.7254\n",
      "Epoch 83/100\n",
      "19/19 [==============================] - 0s 2ms/step - loss: 0.4838 - categorical_accuracy: 0.8808 - val_loss: 0.8464 - val_categorical_accuracy: 0.7150\n",
      "Epoch 84/100\n",
      "19/19 [==============================] - 0s 2ms/step - loss: 0.4748 - categorical_accuracy: 0.8860 - val_loss: 0.7802 - val_categorical_accuracy: 0.7409\n",
      "Epoch 85/100\n",
      "19/19 [==============================] - 0s 2ms/step - loss: 0.4735 - categorical_accuracy: 0.8791 - val_loss: 0.7679 - val_categorical_accuracy: 0.7617\n",
      "Epoch 86/100\n",
      "19/19 [==============================] - 0s 2ms/step - loss: 0.4594 - categorical_accuracy: 0.8826 - val_loss: 0.7615 - val_categorical_accuracy: 0.7306\n",
      "Epoch 87/100\n",
      "19/19 [==============================] - 0s 2ms/step - loss: 0.4691 - categorical_accuracy: 0.8791 - val_loss: 0.7577 - val_categorical_accuracy: 0.7306\n",
      "Epoch 88/100\n",
      "19/19 [==============================] - 0s 2ms/step - loss: 0.4670 - categorical_accuracy: 0.8722 - val_loss: 0.8092 - val_categorical_accuracy: 0.7202\n",
      "Epoch 89/100\n",
      "19/19 [==============================] - 0s 2ms/step - loss: 0.4432 - categorical_accuracy: 0.8860 - val_loss: 0.8079 - val_categorical_accuracy: 0.7202\n",
      "Epoch 90/100\n",
      "19/19 [==============================] - 0s 2ms/step - loss: 0.4320 - categorical_accuracy: 0.8912 - val_loss: 0.7529 - val_categorical_accuracy: 0.7409\n",
      "Epoch 91/100\n",
      "19/19 [==============================] - 0s 2ms/step - loss: 0.4335 - categorical_accuracy: 0.9223 - val_loss: 0.7666 - val_categorical_accuracy: 0.7306\n",
      "Epoch 92/100\n",
      "19/19 [==============================] - 0s 2ms/step - loss: 0.4333 - categorical_accuracy: 0.8929 - val_loss: 0.7397 - val_categorical_accuracy: 0.7565\n",
      "Epoch 93/100\n",
      "19/19 [==============================] - 0s 2ms/step - loss: 0.4249 - categorical_accuracy: 0.9171 - val_loss: 0.7951 - val_categorical_accuracy: 0.6995\n",
      "Epoch 94/100\n"
     ]
    },
    {
     "name": "stdout",
     "output_type": "stream",
     "text": [
      "19/19 [==============================] - 0s 2ms/step - loss: 0.4862 - categorical_accuracy: 0.8480 - val_loss: 0.7568 - val_categorical_accuracy: 0.7358\n",
      "Epoch 95/100\n",
      "19/19 [==============================] - 0s 2ms/step - loss: 0.4871 - categorical_accuracy: 0.8549 - val_loss: 0.8622 - val_categorical_accuracy: 0.7047\n",
      "Epoch 96/100\n",
      "19/19 [==============================] - 0s 2ms/step - loss: 0.4706 - categorical_accuracy: 0.8653 - val_loss: 0.8342 - val_categorical_accuracy: 0.7202\n",
      "Epoch 97/100\n",
      "19/19 [==============================] - 0s 2ms/step - loss: 0.4238 - categorical_accuracy: 0.9067 - val_loss: 0.7511 - val_categorical_accuracy: 0.7461\n",
      "Epoch 98/100\n",
      "19/19 [==============================] - 0s 2ms/step - loss: 0.3948 - categorical_accuracy: 0.9136 - val_loss: 0.7301 - val_categorical_accuracy: 0.7565\n",
      "Epoch 99/100\n",
      "19/19 [==============================] - 0s 2ms/step - loss: 0.3998 - categorical_accuracy: 0.9050 - val_loss: 0.7300 - val_categorical_accuracy: 0.7927\n",
      "Epoch 100/100\n",
      "19/19 [==============================] - 0s 2ms/step - loss: 0.4178 - categorical_accuracy: 0.9033 - val_loss: 0.7662 - val_categorical_accuracy: 0.7668\n"
     ]
    },
    {
     "data": {
      "text/plain": [
       "<tensorflow.python.keras.callbacks.History at 0x8ba3ab5348>"
      ]
     },
     "execution_count": 15,
     "metadata": {},
     "output_type": "execute_result"
    }
   ],
   "source": [
    "from tensorflow.keras.models import Sequential\n",
    "from tensorflow.keras.layers import Dense\n",
    "from tensorflow.keras.callbacks import LearningRateScheduler\n",
    "from tensorflow.keras.callbacks import ModelCheckpoint\n",
    "from tensorflow.keras.callbacks import EarlyStopping\n",
    "from tensorflow.keras.layers import Dropout\n",
    "from tensorflow.keras.layers import BatchNormalization\n",
    "from tensorflow.keras.layers import Activation\n",
    "from tensorflow.keras.layers import Flatten\n",
    "from tensorflow.keras.callbacks import History\n",
    "\n",
    "history_dense_1 = History()\n",
    "model = Sequential()\n",
    "model.add(Flatten(input_shape=X_train.shape[1:]))\n",
    "model.add(Dense(n_classes,activation=\"softmax\"))\n",
    "model.summary()\n",
    "\n",
    "early_stopping = EarlyStopping(patience=20,monitor=\"val_loss\")\n",
    "model.compile(loss=\"categorical_crossentropy\",optimizer=\"adam\",metrics=[\"categorical_accuracy\"])\n",
    "model.fit(X_train, y_train, validation_split=0.25,epochs=100,callbacks=[early_stopping, history_dense_1])"
   ]
  },
  {
   "cell_type": "code",
   "execution_count": 16,
   "metadata": {},
   "outputs": [
    {
     "name": "stdout",
     "output_type": "stream",
     "text": [
      "17/17 [==============================] - 0s 1ms/step - loss: 0.7692 - categorical_accuracy: 0.7926\n"
     ]
    },
    {
     "data": {
      "text/plain": [
       "[0.7691856622695923, 0.7926356792449951]"
      ]
     },
     "execution_count": 16,
     "metadata": {},
     "output_type": "execute_result"
    }
   ],
   "source": [
    "model.evaluate(X_test,y_test)"
   ]
  },
  {
   "cell_type": "code",
   "execution_count": 17,
   "metadata": {},
   "outputs": [
    {
     "data": {
      "image/png": "[encoded data removed]",
      "text/plain": [
       "<Figure size 432x288 with 1 Axes>"
      ]
     },
     "metadata": {
      "needs_background": "light"
     },
     "output_type": "display_data"
    }
   ],
   "source": [
    "plt.plot(history_dense_1.history['categorical_accuracy'], label = \"tarina Adam\")\n",
    "plt.plot(history_dense_1.history['val_categorical_accuracy'], label = \"test Adam\")\n",
    "\n",
    "\n",
    "plt.legend()\n",
    "plt.show()"
   ]
  },
  {
   "cell_type": "markdown",
   "metadata": {},
   "source": [
    "# Zad\n",
    "\n",
    "Sprawdź czy dwie warstwy poprawią wynik?"
   ]
  },
  {
   "cell_type": "code",
   "execution_count": null,
   "metadata": {},
   "outputs": [],
   "source": []
  },
  {
   "cell_type": "code",
   "execution_count": null,
   "metadata": {},
   "outputs": [],
   "source": []
  },
  {
   "cell_type": "markdown",
   "metadata": {},
   "source": [
    "# Sieci konwolucyjne\n",
    "\n",
    "# Zad\n",
    "Zbuduj sieć konwolucyjną z jedną warstwą \n",
    "* Conv2D"
   ]
  },
  {
   "cell_type": "code",
   "execution_count": 22,
   "metadata": {},
   "outputs": [],
   "source": [
    "from tensorflow.python.keras.layers.convolutional import Conv2D, MaxPooling2D, AveragePooling2D"
   ]
  },
  {
   "cell_type": "code",
   "execution_count": 23,
   "metadata": {},
   "outputs": [
    {
     "name": "stdout",
     "output_type": "stream",
     "text": [
      "Model: \"sequential_1\"\n",
      "_________________________________________________________________\n",
      "Layer (type)                 Output Shape              Param #   \n",
      "=================================================================\n",
      "conv2d (Conv2D)              (None, 48, 35, 16)        160       \n",
      "_________________________________________________________________\n",
      "flatten_1 (Flatten)          (None, 26880)             0         \n",
      "_________________________________________________________________\n",
      "dense_1 (Dense)              (None, 7)                 188167    \n",
      "=================================================================\n",
      "Total params: 188,327\n",
      "Trainable params: 188,327\n",
      "Non-trainable params: 0\n",
      "_________________________________________________________________\n",
      "Epoch 1/100\n",
      "19/19 [==============================] - 0s 17ms/step - loss: 2.2847 - categorical_accuracy: 0.2556 - val_loss: 1.8358 - val_categorical_accuracy: 0.4197\n",
      "Epoch 2/100\n",
      "19/19 [==============================] - 0s 11ms/step - loss: 1.6232 - categorical_accuracy: 0.4560 - val_loss: 1.2997 - val_categorical_accuracy: 0.5337\n",
      "Epoch 3/100\n",
      "19/19 [==============================] - 0s 11ms/step - loss: 1.3780 - categorical_accuracy: 0.5302 - val_loss: 1.2099 - val_categorical_accuracy: 0.5544\n",
      "Epoch 4/100\n",
      "19/19 [==============================] - 0s 12ms/step - loss: 1.1150 - categorical_accuracy: 0.6166 - val_loss: 1.1555 - val_categorical_accuracy: 0.6218\n",
      "Epoch 5/100\n",
      "19/19 [==============================] - 0s 12ms/step - loss: 1.0154 - categorical_accuracy: 0.6684 - val_loss: 1.2087 - val_categorical_accuracy: 0.5440\n",
      "Epoch 6/100\n",
      "19/19 [==============================] - 0s 11ms/step - loss: 0.8901 - categorical_accuracy: 0.7306 - val_loss: 1.0040 - val_categorical_accuracy: 0.6788\n",
      "Epoch 7/100\n",
      "19/19 [==============================] - 0s 11ms/step - loss: 0.7375 - categorical_accuracy: 0.8152 - val_loss: 0.9299 - val_categorical_accuracy: 0.6943\n",
      "Epoch 8/100\n",
      "19/19 [==============================] - 0s 12ms/step - loss: 0.6296 - categorical_accuracy: 0.8463 - val_loss: 0.9256 - val_categorical_accuracy: 0.6995\n",
      "Epoch 9/100\n",
      "19/19 [==============================] - 0s 12ms/step - loss: 0.5364 - categorical_accuracy: 0.8912 - val_loss: 0.8803 - val_categorical_accuracy: 0.7098\n",
      "Epoch 10/100\n",
      "19/19 [==============================] - 0s 12ms/step - loss: 0.4730 - categorical_accuracy: 0.8877 - val_loss: 0.8353 - val_categorical_accuracy: 0.7409\n",
      "Epoch 11/100\n",
      "19/19 [==============================] - 0s 12ms/step - loss: 0.4235 - categorical_accuracy: 0.9033 - val_loss: 0.8158 - val_categorical_accuracy: 0.7409\n",
      "Epoch 12/100\n",
      "19/19 [==============================] - 0s 12ms/step - loss: 0.3424 - categorical_accuracy: 0.9344 - val_loss: 0.7945 - val_categorical_accuracy: 0.7772\n",
      "Epoch 13/100\n",
      "19/19 [==============================] - 0s 13ms/step - loss: 0.3088 - categorical_accuracy: 0.9396 - val_loss: 0.7873 - val_categorical_accuracy: 0.7409\n",
      "Epoch 14/100\n",
      "19/19 [==============================] - 0s 14ms/step - loss: 0.2711 - categorical_accuracy: 0.9637 - val_loss: 0.8221 - val_categorical_accuracy: 0.7150\n",
      "Epoch 15/100\n",
      "19/19 [==============================] - 0s 11ms/step - loss: 0.2458 - categorical_accuracy: 0.9603 - val_loss: 0.7769 - val_categorical_accuracy: 0.7668\n",
      "Epoch 16/100\n",
      "19/19 [==============================] - 0s 13ms/step - loss: 0.2358 - categorical_accuracy: 0.9672 - val_loss: 0.7976 - val_categorical_accuracy: 0.7668\n",
      "Epoch 17/100\n",
      "19/19 [==============================] - 0s 12ms/step - loss: 0.1919 - categorical_accuracy: 0.9741 - val_loss: 0.7700 - val_categorical_accuracy: 0.7461\n",
      "Epoch 18/100\n",
      "19/19 [==============================] - 0s 12ms/step - loss: 0.1681 - categorical_accuracy: 0.9810 - val_loss: 0.7623 - val_categorical_accuracy: 0.7772\n",
      "Epoch 19/100\n",
      "19/19 [==============================] - 0s 12ms/step - loss: 0.1539 - categorical_accuracy: 0.9810 - val_loss: 0.7653 - val_categorical_accuracy: 0.7513\n",
      "Epoch 20/100\n",
      "19/19 [==============================] - 0s 12ms/step - loss: 0.1361 - categorical_accuracy: 0.9879 - val_loss: 0.7688 - val_categorical_accuracy: 0.7513\n",
      "Epoch 21/100\n",
      "19/19 [==============================] - 0s 20ms/step - loss: 0.1260 - categorical_accuracy: 0.9931 - val_loss: 0.7575 - val_categorical_accuracy: 0.7617\n",
      "Epoch 22/100\n",
      "19/19 [==============================] - 0s 12ms/step - loss: 0.1062 - categorical_accuracy: 0.9931 - val_loss: 0.7611 - val_categorical_accuracy: 0.7565\n",
      "Epoch 23/100\n",
      "19/19 [==============================] - 0s 12ms/step - loss: 0.0940 - categorical_accuracy: 0.9931 - val_loss: 0.7511 - val_categorical_accuracy: 0.7720\n",
      "Epoch 24/100\n",
      "19/19 [==============================] - 0s 13ms/step - loss: 0.0887 - categorical_accuracy: 0.9983 - val_loss: 0.7704 - val_categorical_accuracy: 0.7720\n",
      "Epoch 25/100\n",
      "19/19 [==============================] - 0s 12ms/step - loss: 0.0779 - categorical_accuracy: 0.9983 - val_loss: 0.7513 - val_categorical_accuracy: 0.7668\n",
      "Epoch 26/100\n",
      "19/19 [==============================] - 0s 12ms/step - loss: 0.0698 - categorical_accuracy: 0.9983 - val_loss: 0.7456 - val_categorical_accuracy: 0.8083\n",
      "Epoch 27/100\n",
      "19/19 [==============================] - 0s 12ms/step - loss: 0.0616 - categorical_accuracy: 1.0000 - val_loss: 0.7592 - val_categorical_accuracy: 0.7876\n",
      "Epoch 28/100\n",
      "19/19 [==============================] - 0s 12ms/step - loss: 0.0552 - categorical_accuracy: 1.0000 - val_loss: 0.7614 - val_categorical_accuracy: 0.7979\n",
      "Epoch 29/100\n",
      "19/19 [==============================] - 0s 11ms/step - loss: 0.0556 - categorical_accuracy: 1.0000 - val_loss: 0.7574 - val_categorical_accuracy: 0.7979\n",
      "Epoch 30/100\n",
      "19/19 [==============================] - 0s 11ms/step - loss: 0.0494 - categorical_accuracy: 1.0000 - val_loss: 0.7741 - val_categorical_accuracy: 0.7824\n",
      "Epoch 31/100\n",
      "19/19 [==============================] - 0s 11ms/step - loss: 0.0482 - categorical_accuracy: 1.0000 - val_loss: 0.7658 - val_categorical_accuracy: 0.7824\n",
      "Epoch 32/100\n",
      "19/19 [==============================] - 0s 13ms/step - loss: 0.0425 - categorical_accuracy: 1.0000 - val_loss: 0.7926 - val_categorical_accuracy: 0.7617\n",
      "Epoch 33/100\n",
      "19/19 [==============================] - 0s 13ms/step - loss: 0.0371 - categorical_accuracy: 1.0000 - val_loss: 0.7912 - val_categorical_accuracy: 0.7720\n",
      "Epoch 34/100\n",
      "19/19 [==============================] - 0s 12ms/step - loss: 0.0342 - categorical_accuracy: 1.0000 - val_loss: 0.7802 - val_categorical_accuracy: 0.7927\n",
      "Epoch 35/100\n",
      "19/19 [==============================] - 0s 14ms/step - loss: 0.0342 - categorical_accuracy: 1.0000 - val_loss: 0.7986 - val_categorical_accuracy: 0.7720\n",
      "Epoch 36/100\n",
      "19/19 [==============================] - 0s 17ms/step - loss: 0.0306 - categorical_accuracy: 1.0000 - val_loss: 0.7928 - val_categorical_accuracy: 0.7876\n",
      "Epoch 37/100\n",
      "19/19 [==============================] - 0s 25ms/step - loss: 0.0284 - categorical_accuracy: 1.0000 - val_loss: 0.7928 - val_categorical_accuracy: 0.7927\n",
      "Epoch 38/100\n",
      "19/19 [==============================] - 0s 17ms/step - loss: 0.0265 - categorical_accuracy: 1.0000 - val_loss: 0.7939 - val_categorical_accuracy: 0.7979\n",
      "Epoch 39/100\n",
      "19/19 [==============================] - 0s 15ms/step - loss: 0.0243 - categorical_accuracy: 1.0000 - val_loss: 0.8146 - val_categorical_accuracy: 0.7927\n",
      "Epoch 40/100\n",
      "19/19 [==============================] - 0s 13ms/step - loss: 0.0231 - categorical_accuracy: 1.0000 - val_loss: 0.8128 - val_categorical_accuracy: 0.7876\n",
      "Epoch 41/100\n",
      "19/19 [==============================] - 0s 12ms/step - loss: 0.0227 - categorical_accuracy: 1.0000 - val_loss: 0.8324 - val_categorical_accuracy: 0.7824\n",
      "Epoch 42/100\n",
      "19/19 [==============================] - 0s 15ms/step - loss: 0.0207 - categorical_accuracy: 1.0000 - val_loss: 0.8263 - val_categorical_accuracy: 0.7927\n",
      "Epoch 43/100\n",
      "19/19 [==============================] - 0s 12ms/step - loss: 0.0203 - categorical_accuracy: 1.0000 - val_loss: 0.8360 - val_categorical_accuracy: 0.7772\n",
      "Epoch 44/100\n",
      "19/19 [==============================] - 0s 12ms/step - loss: 0.0183 - categorical_accuracy: 1.0000 - val_loss: 0.8181 - val_categorical_accuracy: 0.8135\n",
      "Epoch 45/100\n"
     ]
    },
    {
     "name": "stdout",
     "output_type": "stream",
     "text": [
      "19/19 [==============================] - 0s 11ms/step - loss: 0.0175 - categorical_accuracy: 1.0000 - val_loss: 0.8597 - val_categorical_accuracy: 0.7772\n",
      "Epoch 46/100\n",
      "19/19 [==============================] - 0s 12ms/step - loss: 0.0169 - categorical_accuracy: 1.0000 - val_loss: 0.8199 - val_categorical_accuracy: 0.8031\n",
      "Epoch 47/100\n",
      "19/19 [==============================] - 0s 12ms/step - loss: 0.0167 - categorical_accuracy: 1.0000 - val_loss: 0.8687 - val_categorical_accuracy: 0.7668\n",
      "Epoch 48/100\n",
      "19/19 [==============================] - 0s 12ms/step - loss: 0.0155 - categorical_accuracy: 1.0000 - val_loss: 0.8629 - val_categorical_accuracy: 0.7772\n",
      "Epoch 49/100\n",
      "19/19 [==============================] - 0s 11ms/step - loss: 0.0142 - categorical_accuracy: 1.0000 - val_loss: 0.8369 - val_categorical_accuracy: 0.7979\n",
      "Epoch 50/100\n",
      "19/19 [==============================] - 0s 12ms/step - loss: 0.0134 - categorical_accuracy: 1.0000 - val_loss: 0.8495 - val_categorical_accuracy: 0.7979\n",
      "Epoch 51/100\n",
      "19/19 [==============================] - 0s 12ms/step - loss: 0.0129 - categorical_accuracy: 1.0000 - val_loss: 0.8630 - val_categorical_accuracy: 0.7876\n",
      "Epoch 52/100\n",
      "19/19 [==============================] - 0s 14ms/step - loss: 0.0134 - categorical_accuracy: 1.0000 - val_loss: 0.8631 - val_categorical_accuracy: 0.7927\n",
      "Epoch 53/100\n",
      "19/19 [==============================] - 0s 12ms/step - loss: 0.0129 - categorical_accuracy: 1.0000 - val_loss: 0.8560 - val_categorical_accuracy: 0.8187\n",
      "Epoch 54/100\n",
      "19/19 [==============================] - 0s 14ms/step - loss: 0.0122 - categorical_accuracy: 1.0000 - val_loss: 0.8588 - val_categorical_accuracy: 0.8083\n",
      "Epoch 55/100\n",
      "19/19 [==============================] - 0s 11ms/step - loss: 0.0115 - categorical_accuracy: 1.0000 - val_loss: 0.8920 - val_categorical_accuracy: 0.7876\n",
      "Epoch 56/100\n",
      "19/19 [==============================] - 0s 11ms/step - loss: 0.0103 - categorical_accuracy: 1.0000 - val_loss: 0.8750 - val_categorical_accuracy: 0.8083\n",
      "17/17 [==============================] - 0s 4ms/step - loss: 0.7750 - categorical_accuracy: 0.8159\n"
     ]
    },
    {
     "data": {
      "text/plain": [
       "[0.7749660015106201, 0.815891444683075]"
      ]
     },
     "execution_count": 23,
     "metadata": {},
     "output_type": "execute_result"
    }
   ],
   "source": [
    "history_conv_1 = History()\n",
    "model = Sequential()\n",
    "model.add(Conv2D(16,(3,3),input_shape=X_train.shape[1:]))\n",
    "model.add(Flatten())\n",
    "model.add(Dense(n_classes,activation=\"softmax\"))\n",
    "model.summary()\n",
    "\n",
    "early_stopping = EarlyStopping(patience=30,monitor=\"val_loss\")\n",
    "model.compile(loss=\"categorical_crossentropy\",optimizer=\"adam\",metrics=[\"categorical_accuracy\"])\n",
    "model.fit(X_train, y_train, validation_split=0.25,epochs=100,callbacks=[early_stopping, history_conv_1])\n",
    "model.evaluate(X_test,y_test)"
   ]
  },
  {
   "cell_type": "code",
   "execution_count": 24,
   "metadata": {},
   "outputs": [
    {
     "data": {
      "image/png": "[encoded data removed]",
      "text/plain": [
       "<Figure size 432x288 with 1 Axes>"
      ]
     },
     "metadata": {
      "needs_background": "light"
     },
     "output_type": "display_data"
    }
   ],
   "source": [
    "plt.plot(history_dense_1.history['categorical_accuracy'], label = \"tarina dense Layer=1\")\n",
    "plt.plot(history_dense_1.history['val_categorical_accuracy'], label = \"test dense Layer=1\")\n",
    "\n",
    "# plt.plot(history_dense_2.history['categorical_accuracy'], label = \"tarina dense Layer=2\")\n",
    "# plt.plot(history_dense_2.history['val_categorical_accuracy'], label = \"test dense Layer=2\")\n",
    "\n",
    "plt.plot(history_conv_1.history['categorical_accuracy'], label = \"tarina Conv Layer=1\")\n",
    "plt.plot(history_conv_1.history['val_categorical_accuracy'], label = \"test Conv Layer=1\")\n",
    "\n",
    "plt.legend()\n",
    "plt.show()"
   ]
  },
  {
   "cell_type": "markdown",
   "metadata": {},
   "source": [
    "# Zad\n",
    "Zbuduj sieć konwolucyjną z jedną warstwą \n",
    "* Conv2D\n",
    "* MaxPooling2D"
   ]
  },
  {
   "cell_type": "code",
   "execution_count": 25,
   "metadata": {},
   "outputs": [
    {
     "name": "stdout",
     "output_type": "stream",
     "text": [
      "Model: \"sequential_2\"\n",
      "_________________________________________________________________\n",
      "Layer (type)                 Output Shape              Param #   \n",
      "=================================================================\n",
      "conv2d_1 (Conv2D)            (None, 48, 35, 16)        160       \n",
      "_________________________________________________________________\n",
      "max_pooling2d (MaxPooling2D) (None, 24, 17, 16)        0         \n",
      "_________________________________________________________________\n",
      "flatten_2 (Flatten)          (None, 6528)              0         \n",
      "_________________________________________________________________\n",
      "dense_2 (Dense)              (None, 7)                 45703     \n",
      "=================================================================\n",
      "Total params: 45,863\n",
      "Trainable params: 45,863\n",
      "Non-trainable params: 0\n",
      "_________________________________________________________________\n",
      "Epoch 1/100\n",
      "19/19 [==============================] - 0s 24ms/step - loss: 1.8604 - categorical_accuracy: 0.3402 - val_loss: 1.5231 - val_categorical_accuracy: 0.4560\n",
      "Epoch 2/100\n",
      "19/19 [==============================] - 0s 10ms/step - loss: 1.6612 - categorical_accuracy: 0.3610 - val_loss: 1.5864 - val_categorical_accuracy: 0.4560\n",
      "Epoch 3/100\n",
      "19/19 [==============================] - 0s 12ms/step - loss: 1.6217 - categorical_accuracy: 0.4197 - val_loss: 1.5427 - val_categorical_accuracy: 0.4715\n",
      "Epoch 4/100\n",
      "19/19 [==============================] - 0s 12ms/step - loss: 1.5621 - categorical_accuracy: 0.4249 - val_loss: 1.4487 - val_categorical_accuracy: 0.5907\n",
      "Epoch 5/100\n",
      "19/19 [==============================] - 0s 12ms/step - loss: 1.4636 - categorical_accuracy: 0.4387 - val_loss: 1.4025 - val_categorical_accuracy: 0.6010\n",
      "Epoch 6/100\n",
      "19/19 [==============================] - 0s 11ms/step - loss: 1.3897 - categorical_accuracy: 0.5440 - val_loss: 1.2610 - val_categorical_accuracy: 0.5389\n",
      "Epoch 7/100\n",
      "19/19 [==============================] - 0s 11ms/step - loss: 1.2662 - categorical_accuracy: 0.5458 - val_loss: 1.3246 - val_categorical_accuracy: 0.5181\n",
      "Epoch 8/100\n",
      "19/19 [==============================] - 0s 10ms/step - loss: 1.1716 - categorical_accuracy: 0.5889 - val_loss: 1.1920 - val_categorical_accuracy: 0.6528\n",
      "Epoch 9/100\n",
      "19/19 [==============================] - 0s 11ms/step - loss: 1.0804 - categorical_accuracy: 0.6408 - val_loss: 1.1142 - val_categorical_accuracy: 0.5959\n",
      "Epoch 10/100\n",
      "19/19 [==============================] - 0s 11ms/step - loss: 1.0333 - categorical_accuracy: 0.6339 - val_loss: 1.1096 - val_categorical_accuracy: 0.6062\n",
      "Epoch 11/100\n",
      "19/19 [==============================] - 0s 11ms/step - loss: 0.9198 - categorical_accuracy: 0.7029 - val_loss: 1.0079 - val_categorical_accuracy: 0.6321\n",
      "Epoch 12/100\n",
      "19/19 [==============================] - 0s 12ms/step - loss: 0.8076 - categorical_accuracy: 0.7530 - val_loss: 0.9130 - val_categorical_accuracy: 0.6995\n",
      "Epoch 13/100\n",
      "19/19 [==============================] - 0s 11ms/step - loss: 0.7373 - categorical_accuracy: 0.8014 - val_loss: 0.8696 - val_categorical_accuracy: 0.7202\n",
      "Epoch 14/100\n",
      "19/19 [==============================] - 0s 10ms/step - loss: 0.6569 - categorical_accuracy: 0.8117 - val_loss: 0.8174 - val_categorical_accuracy: 0.7358\n",
      "Epoch 15/100\n",
      "19/19 [==============================] - 0s 11ms/step - loss: 0.6394 - categorical_accuracy: 0.8256 - val_loss: 0.8111 - val_categorical_accuracy: 0.7720\n",
      "Epoch 16/100\n",
      "19/19 [==============================] - 0s 11ms/step - loss: 0.5431 - categorical_accuracy: 0.8497 - val_loss: 0.7352 - val_categorical_accuracy: 0.7772\n",
      "Epoch 17/100\n",
      "19/19 [==============================] - 0s 11ms/step - loss: 0.5288 - categorical_accuracy: 0.8463 - val_loss: 0.7494 - val_categorical_accuracy: 0.7772\n",
      "Epoch 18/100\n",
      "19/19 [==============================] - 0s 12ms/step - loss: 0.4713 - categorical_accuracy: 0.8791 - val_loss: 0.7553 - val_categorical_accuracy: 0.7772\n",
      "Epoch 19/100\n",
      "19/19 [==============================] - 0s 11ms/step - loss: 0.4600 - categorical_accuracy: 0.8808 - val_loss: 0.8234 - val_categorical_accuracy: 0.7358\n",
      "Epoch 20/100\n",
      "19/19 [==============================] - 0s 10ms/step - loss: 0.4220 - categorical_accuracy: 0.9016 - val_loss: 0.7148 - val_categorical_accuracy: 0.7876\n",
      "Epoch 21/100\n",
      "19/19 [==============================] - 0s 11ms/step - loss: 0.3627 - categorical_accuracy: 0.9206 - val_loss: 0.6825 - val_categorical_accuracy: 0.7876\n",
      "Epoch 22/100\n",
      "19/19 [==============================] - 0s 10ms/step - loss: 0.3524 - categorical_accuracy: 0.9033 - val_loss: 0.6823 - val_categorical_accuracy: 0.7824\n",
      "Epoch 23/100\n",
      "19/19 [==============================] - 0s 10ms/step - loss: 0.3323 - categorical_accuracy: 0.9240 - val_loss: 0.6530 - val_categorical_accuracy: 0.7979\n",
      "Epoch 24/100\n",
      "19/19 [==============================] - 0s 10ms/step - loss: 0.3135 - categorical_accuracy: 0.9309 - val_loss: 0.6514 - val_categorical_accuracy: 0.8187\n",
      "Epoch 25/100\n",
      "19/19 [==============================] - 0s 11ms/step - loss: 0.2788 - categorical_accuracy: 0.9361 - val_loss: 0.6480 - val_categorical_accuracy: 0.7927\n",
      "Epoch 26/100\n",
      "19/19 [==============================] - 0s 10ms/step - loss: 0.2643 - categorical_accuracy: 0.9361 - val_loss: 0.6632 - val_categorical_accuracy: 0.8083\n",
      "Epoch 27/100\n",
      "19/19 [==============================] - 0s 10ms/step - loss: 0.2494 - categorical_accuracy: 0.9413 - val_loss: 0.6537 - val_categorical_accuracy: 0.7979\n",
      "Epoch 28/100\n",
      "19/19 [==============================] - 0s 10ms/step - loss: 0.2419 - categorical_accuracy: 0.9378 - val_loss: 0.6409 - val_categorical_accuracy: 0.8083\n",
      "Epoch 29/100\n",
      "19/19 [==============================] - 0s 10ms/step - loss: 0.2180 - categorical_accuracy: 0.9585 - val_loss: 0.7660 - val_categorical_accuracy: 0.7461\n",
      "Epoch 30/100\n",
      "19/19 [==============================] - 0s 11ms/step - loss: 0.2182 - categorical_accuracy: 0.9465 - val_loss: 0.6517 - val_categorical_accuracy: 0.8083\n",
      "Epoch 31/100\n",
      "19/19 [==============================] - 0s 10ms/step - loss: 0.2083 - categorical_accuracy: 0.9551 - val_loss: 0.6571 - val_categorical_accuracy: 0.8135\n",
      "Epoch 32/100\n",
      "19/19 [==============================] - 0s 10ms/step - loss: 0.2002 - categorical_accuracy: 0.9637 - val_loss: 0.6544 - val_categorical_accuracy: 0.8135\n",
      "Epoch 33/100\n",
      "19/19 [==============================] - 0s 10ms/step - loss: 0.1770 - categorical_accuracy: 0.9637 - val_loss: 0.7953 - val_categorical_accuracy: 0.7565\n",
      "Epoch 34/100\n",
      "19/19 [==============================] - 0s 10ms/step - loss: 0.1871 - categorical_accuracy: 0.9465 - val_loss: 0.6916 - val_categorical_accuracy: 0.8031\n",
      "Epoch 35/100\n",
      "19/19 [==============================] - 0s 11ms/step - loss: 0.1724 - categorical_accuracy: 0.9741 - val_loss: 0.6462 - val_categorical_accuracy: 0.8135\n",
      "Epoch 36/100\n",
      "19/19 [==============================] - 0s 10ms/step - loss: 0.1585 - categorical_accuracy: 0.9706 - val_loss: 0.6943 - val_categorical_accuracy: 0.7927\n",
      "Epoch 37/100\n",
      "19/19 [==============================] - 0s 11ms/step - loss: 0.1491 - categorical_accuracy: 0.9775 - val_loss: 0.6848 - val_categorical_accuracy: 0.8187\n",
      "Epoch 38/100\n",
      "19/19 [==============================] - 0s 11ms/step - loss: 0.1495 - categorical_accuracy: 0.9689 - val_loss: 0.6179 - val_categorical_accuracy: 0.8290\n",
      "Epoch 39/100\n",
      "19/19 [==============================] - 0s 11ms/step - loss: 0.1249 - categorical_accuracy: 0.9810 - val_loss: 0.6392 - val_categorical_accuracy: 0.8187\n",
      "Epoch 40/100\n",
      "19/19 [==============================] - 0s 11ms/step - loss: 0.1250 - categorical_accuracy: 0.9827 - val_loss: 0.6604 - val_categorical_accuracy: 0.8187\n",
      "Epoch 41/100\n",
      "19/19 [==============================] - 0s 10ms/step - loss: 0.1337 - categorical_accuracy: 0.9793 - val_loss: 0.6823 - val_categorical_accuracy: 0.7927\n",
      "Epoch 42/100\n",
      "19/19 [==============================] - 0s 10ms/step - loss: 0.1113 - categorical_accuracy: 0.9827 - val_loss: 0.6673 - val_categorical_accuracy: 0.8031\n",
      "Epoch 43/100\n",
      "19/19 [==============================] - 0s 10ms/step - loss: 0.1074 - categorical_accuracy: 0.9879 - val_loss: 0.6732 - val_categorical_accuracy: 0.8135\n",
      "Epoch 44/100\n",
      "19/19 [==============================] - 0s 11ms/step - loss: 0.1087 - categorical_accuracy: 0.9845 - val_loss: 0.6313 - val_categorical_accuracy: 0.8394\n"
     ]
    },
    {
     "name": "stdout",
     "output_type": "stream",
     "text": [
      "Epoch 45/100\n",
      "19/19 [==============================] - 0s 13ms/step - loss: 0.1462 - categorical_accuracy: 0.9655 - val_loss: 0.6468 - val_categorical_accuracy: 0.8342\n",
      "Epoch 46/100\n",
      "19/19 [==============================] - 0s 14ms/step - loss: 0.0946 - categorical_accuracy: 0.9896 - val_loss: 0.6424 - val_categorical_accuracy: 0.8446\n",
      "Epoch 47/100\n",
      "19/19 [==============================] - 0s 12ms/step - loss: 0.0927 - categorical_accuracy: 0.9914 - val_loss: 0.6790 - val_categorical_accuracy: 0.8135\n",
      "Epoch 48/100\n",
      "19/19 [==============================] - 0s 10ms/step - loss: 0.0889 - categorical_accuracy: 0.9931 - val_loss: 0.7037 - val_categorical_accuracy: 0.7927\n",
      "Epoch 49/100\n",
      "19/19 [==============================] - 0s 14ms/step - loss: 0.0820 - categorical_accuracy: 0.9948 - val_loss: 0.6658 - val_categorical_accuracy: 0.8290\n",
      "Epoch 50/100\n",
      "19/19 [==============================] - 0s 13ms/step - loss: 0.0854 - categorical_accuracy: 0.9948 - val_loss: 0.7397 - val_categorical_accuracy: 0.7876\n",
      "Epoch 51/100\n",
      "19/19 [==============================] - 0s 12ms/step - loss: 0.0907 - categorical_accuracy: 0.9879 - val_loss: 0.7631 - val_categorical_accuracy: 0.7668\n",
      "Epoch 52/100\n",
      "19/19 [==============================] - 0s 11ms/step - loss: 0.0753 - categorical_accuracy: 0.9931 - val_loss: 0.6503 - val_categorical_accuracy: 0.8342\n",
      "Epoch 53/100\n",
      "19/19 [==============================] - 0s 10ms/step - loss: 0.0673 - categorical_accuracy: 0.9965 - val_loss: 0.6390 - val_categorical_accuracy: 0.8342\n",
      "Epoch 54/100\n",
      "19/19 [==============================] - 0s 10ms/step - loss: 0.0619 - categorical_accuracy: 0.9983 - val_loss: 0.6769 - val_categorical_accuracy: 0.8238\n",
      "Epoch 55/100\n",
      "19/19 [==============================] - 0s 9ms/step - loss: 0.0752 - categorical_accuracy: 0.9931 - val_loss: 0.6871 - val_categorical_accuracy: 0.8083\n",
      "Epoch 56/100\n",
      "19/19 [==============================] - 0s 10ms/step - loss: 0.0658 - categorical_accuracy: 0.9948 - val_loss: 0.7119 - val_categorical_accuracy: 0.7979\n",
      "Epoch 57/100\n",
      "19/19 [==============================] - 0s 10ms/step - loss: 0.0569 - categorical_accuracy: 0.9965 - val_loss: 0.6718 - val_categorical_accuracy: 0.8290\n",
      "Epoch 58/100\n",
      "19/19 [==============================] - 0s 10ms/step - loss: 0.0514 - categorical_accuracy: 0.9983 - val_loss: 0.6916 - val_categorical_accuracy: 0.8083\n",
      "Epoch 59/100\n",
      "19/19 [==============================] - 0s 11ms/step - loss: 0.0508 - categorical_accuracy: 0.9983 - val_loss: 0.7006 - val_categorical_accuracy: 0.7824\n",
      "Epoch 60/100\n",
      "19/19 [==============================] - 0s 10ms/step - loss: 0.0519 - categorical_accuracy: 0.9965 - val_loss: 0.7168 - val_categorical_accuracy: 0.8083\n",
      "Epoch 61/100\n",
      "19/19 [==============================] - 0s 10ms/step - loss: 0.0495 - categorical_accuracy: 0.9983 - val_loss: 0.6905 - val_categorical_accuracy: 0.8238\n",
      "Epoch 62/100\n",
      "19/19 [==============================] - 0s 10ms/step - loss: 0.0473 - categorical_accuracy: 0.9983 - val_loss: 0.6803 - val_categorical_accuracy: 0.8238\n",
      "Epoch 63/100\n",
      "19/19 [==============================] - 0s 10ms/step - loss: 0.0432 - categorical_accuracy: 0.9983 - val_loss: 0.6501 - val_categorical_accuracy: 0.8290\n",
      "Epoch 64/100\n",
      "19/19 [==============================] - 0s 9ms/step - loss: 0.0434 - categorical_accuracy: 0.9983 - val_loss: 0.6840 - val_categorical_accuracy: 0.8238\n",
      "Epoch 65/100\n",
      "19/19 [==============================] - 0s 10ms/step - loss: 0.0388 - categorical_accuracy: 1.0000 - val_loss: 0.6666 - val_categorical_accuracy: 0.8290\n",
      "Epoch 66/100\n",
      "19/19 [==============================] - 0s 10ms/step - loss: 0.0385 - categorical_accuracy: 0.9983 - val_loss: 0.7165 - val_categorical_accuracy: 0.8187\n",
      "Epoch 67/100\n",
      "19/19 [==============================] - 0s 10ms/step - loss: 0.0351 - categorical_accuracy: 1.0000 - val_loss: 0.6665 - val_categorical_accuracy: 0.8290\n",
      "Epoch 68/100\n",
      "19/19 [==============================] - 0s 10ms/step - loss: 0.0323 - categorical_accuracy: 1.0000 - val_loss: 0.7026 - val_categorical_accuracy: 0.8187\n",
      "17/17 [==============================] - 0s 4ms/step - loss: 0.6123 - categorical_accuracy: 0.8353\n"
     ]
    },
    {
     "data": {
      "text/plain": [
       "[0.612322211265564, 0.8352712988853455]"
      ]
     },
     "execution_count": 25,
     "metadata": {},
     "output_type": "execute_result"
    }
   ],
   "source": [
    "history_conv_max_1 = History()\n",
    "model = Sequential()\n",
    "model.add(Conv2D(16,(3,3),input_shape=X_train.shape[1:]))\n",
    "model.add(MaxPooling2D((2,2)))\n",
    "model.add(Flatten())\n",
    "model.add(Dense(n_classes,activation=\"softmax\"))\n",
    "model.summary()\n",
    "\n",
    "early_stopping = EarlyStopping(patience=30,monitor=\"val_loss\")\n",
    "model.compile(loss=\"categorical_crossentropy\",optimizer=\"adam\",metrics=[\"categorical_accuracy\"])\n",
    "model.fit(X_train, y_train, validation_split=0.25,epochs=100,callbacks=[early_stopping, history_conv_max_1])\n",
    "model.evaluate(X_test,y_test)"
   ]
  },
  {
   "cell_type": "code",
   "execution_count": 26,
   "metadata": {},
   "outputs": [
    {
     "data": {
      "image/png": "[encoded data removed]",
      "text/plain": [
       "<Figure size 432x288 with 1 Axes>"
      ]
     },
     "metadata": {
      "needs_background": "light"
     },
     "output_type": "display_data"
    }
   ],
   "source": [
    "plt.plot(history_dense_1.history['categorical_accuracy'], label = \"tarina dense Layer=1\")\n",
    "plt.plot(history_dense_1.history['val_categorical_accuracy'], label = \"test dense Layer=1\")\n",
    "\n",
    "# plt.plot(history_dense_2.history['categorical_accuracy'], label = \"tarina dense Layer=2\")\n",
    "# plt.plot(history_dense_2.history['val_categorical_accuracy'], label = \"test dense Layer=2\")\n",
    "\n",
    "plt.plot(history_conv_1.history['categorical_accuracy'], label = \"tarina Conv Layer=1\")\n",
    "plt.plot(history_conv_1.history['val_categorical_accuracy'], label = \"test Conv Layer=1\")\n",
    "\n",
    "plt.plot(history_conv_max_1.history['categorical_accuracy'], label = \"tarina Conv Max Layer=1\")\n",
    "plt.plot(history_conv_max_1.history['val_categorical_accuracy'], label = \"test Conv Max Layer=1\")\n",
    "\n",
    "plt.legend()\n",
    "plt.show()"
   ]
  },
  {
   "cell_type": "markdown",
   "metadata": {},
   "source": [
    "# Zad\n",
    "Zbuduj sieć konwolucyjną z jedną warstwą \n",
    "* Conv2D (,padding=\"same\")\n",
    "* MaxPooling2D"
   ]
  },
  {
   "cell_type": "code",
   "execution_count": null,
   "metadata": {},
   "outputs": [],
   "source": []
  },
  {
   "cell_type": "code",
   "execution_count": null,
   "metadata": {},
   "outputs": [],
   "source": []
  },
  {
   "cell_type": "markdown",
   "metadata": {},
   "source": [
    "# Zad\n",
    "Zbuduj sieć konwolucyjną z jedną warstwą \n",
    "* Conv2D (,padding=\"same\")\n",
    "* MaxPooling2D\n",
    "* Conv2D (,padding=\"same\")\n",
    "* MaxPooling2D"
   ]
  },
  {
   "cell_type": "code",
   "execution_count": 27,
   "metadata": {},
   "outputs": [
    {
     "name": "stdout",
     "output_type": "stream",
     "text": [
      "Model: \"sequential_3\"\n",
      "_________________________________________________________________\n",
      "Layer (type)                 Output Shape              Param #   \n",
      "=================================================================\n",
      "conv2d_2 (Conv2D)            (None, 50, 37, 32)        320       \n",
      "_________________________________________________________________\n",
      "max_pooling2d_1 (MaxPooling2 (None, 25, 18, 32)        0         \n",
      "_________________________________________________________________\n",
      "conv2d_3 (Conv2D)            (None, 25, 18, 16)        2064      \n",
      "_________________________________________________________________\n",
      "max_pooling2d_2 (MaxPooling2 (None, 12, 9, 16)         0         \n",
      "_________________________________________________________________\n",
      "flatten_3 (Flatten)          (None, 1728)              0         \n",
      "_________________________________________________________________\n",
      "dense_3 (Dense)              (None, 7)                 12103     \n",
      "=================================================================\n",
      "Total params: 14,487\n",
      "Trainable params: 14,487\n",
      "Non-trainable params: 0\n",
      "_________________________________________________________________\n",
      "Epoch 1/100\n",
      "19/19 [==============================] - 1s 39ms/step - loss: 1.7831 - categorical_accuracy: 0.3575 - val_loss: 1.6707 - val_categorical_accuracy: 0.4767\n",
      "Epoch 2/100\n",
      "19/19 [==============================] - 1s 36ms/step - loss: 1.7112 - categorical_accuracy: 0.3886 - val_loss: 1.5500 - val_categorical_accuracy: 0.4560\n",
      "Epoch 3/100\n",
      "19/19 [==============================] - 1s 32ms/step - loss: 1.6631 - categorical_accuracy: 0.3886 - val_loss: 1.5154 - val_categorical_accuracy: 0.4560\n",
      "Epoch 4/100\n",
      "19/19 [==============================] - 1s 34ms/step - loss: 1.6396 - categorical_accuracy: 0.3886 - val_loss: 1.4733 - val_categorical_accuracy: 0.4560\n",
      "Epoch 5/100\n",
      "19/19 [==============================] - 1s 31ms/step - loss: 1.5809 - categorical_accuracy: 0.4059 - val_loss: 1.4707 - val_categorical_accuracy: 0.4611\n",
      "Epoch 6/100\n",
      "19/19 [==============================] - 1s 35ms/step - loss: 1.5070 - categorical_accuracy: 0.4145 - val_loss: 1.3672 - val_categorical_accuracy: 0.5803\n",
      "Epoch 7/100\n",
      "19/19 [==============================] - 1s 37ms/step - loss: 1.4039 - categorical_accuracy: 0.4922 - val_loss: 1.2821 - val_categorical_accuracy: 0.5285\n",
      "Epoch 8/100\n",
      "19/19 [==============================] - 1s 38ms/step - loss: 1.2702 - categorical_accuracy: 0.5544 - val_loss: 1.1297 - val_categorical_accuracy: 0.6010\n",
      "Epoch 9/100\n",
      "19/19 [==============================] - 1s 34ms/step - loss: 1.1766 - categorical_accuracy: 0.5751 - val_loss: 1.0906 - val_categorical_accuracy: 0.5907\n",
      "Epoch 10/100\n",
      "19/19 [==============================] - 1s 35ms/step - loss: 1.0055 - categorical_accuracy: 0.6269 - val_loss: 1.1331 - val_categorical_accuracy: 0.6114\n",
      "Epoch 11/100\n",
      "19/19 [==============================] - 1s 34ms/step - loss: 0.9274 - categorical_accuracy: 0.6701 - val_loss: 0.9864 - val_categorical_accuracy: 0.6425\n",
      "Epoch 12/100\n",
      "19/19 [==============================] - 1s 33ms/step - loss: 0.7746 - categorical_accuracy: 0.7358 - val_loss: 0.8999 - val_categorical_accuracy: 0.7202\n",
      "Epoch 13/100\n",
      "19/19 [==============================] - 1s 29ms/step - loss: 0.6744 - categorical_accuracy: 0.7979 - val_loss: 0.9081 - val_categorical_accuracy: 0.6580\n",
      "Epoch 14/100\n",
      "19/19 [==============================] - 1s 32ms/step - loss: 0.6573 - categorical_accuracy: 0.7668 - val_loss: 0.9068 - val_categorical_accuracy: 0.6580\n",
      "Epoch 15/100\n",
      "19/19 [==============================] - 1s 31ms/step - loss: 0.5763 - categorical_accuracy: 0.8169 - val_loss: 0.7823 - val_categorical_accuracy: 0.7617\n",
      "Epoch 16/100\n",
      "19/19 [==============================] - 1s 29ms/step - loss: 0.4925 - categorical_accuracy: 0.8515 - val_loss: 0.7324 - val_categorical_accuracy: 0.7358\n",
      "Epoch 17/100\n",
      "19/19 [==============================] - 1s 29ms/step - loss: 0.4494 - categorical_accuracy: 0.8377 - val_loss: 0.7898 - val_categorical_accuracy: 0.7202\n",
      "Epoch 18/100\n",
      "19/19 [==============================] - 1s 30ms/step - loss: 0.4555 - categorical_accuracy: 0.8497 - val_loss: 0.7710 - val_categorical_accuracy: 0.7461\n",
      "Epoch 19/100\n",
      "19/19 [==============================] - 1s 28ms/step - loss: 0.4011 - categorical_accuracy: 0.8705 - val_loss: 0.7587 - val_categorical_accuracy: 0.7720\n",
      "Epoch 20/100\n",
      "19/19 [==============================] - 1s 28ms/step - loss: 0.3656 - categorical_accuracy: 0.8791 - val_loss: 0.7129 - val_categorical_accuracy: 0.7409\n",
      "Epoch 21/100\n",
      "19/19 [==============================] - 1s 27ms/step - loss: 0.3279 - categorical_accuracy: 0.8998 - val_loss: 0.6910 - val_categorical_accuracy: 0.7979\n",
      "Epoch 22/100\n",
      "19/19 [==============================] - 1s 28ms/step - loss: 0.3195 - categorical_accuracy: 0.8998 - val_loss: 0.7063 - val_categorical_accuracy: 0.7824\n",
      "Epoch 23/100\n",
      "19/19 [==============================] - 1s 33ms/step - loss: 0.2733 - categorical_accuracy: 0.9136 - val_loss: 0.6806 - val_categorical_accuracy: 0.7927\n",
      "Epoch 24/100\n",
      "19/19 [==============================] - 1s 31ms/step - loss: 0.2621 - categorical_accuracy: 0.9223 - val_loss: 0.6964 - val_categorical_accuracy: 0.7772\n",
      "Epoch 25/100\n",
      "19/19 [==============================] - 1s 33ms/step - loss: 0.2449 - categorical_accuracy: 0.9275 - val_loss: 0.7853 - val_categorical_accuracy: 0.7461\n",
      "Epoch 26/100\n",
      "19/19 [==============================] - 1s 27ms/step - loss: 0.2504 - categorical_accuracy: 0.9223 - val_loss: 0.8169 - val_categorical_accuracy: 0.7306\n",
      "Epoch 27/100\n",
      "19/19 [==============================] - 1s 32ms/step - loss: 0.2478 - categorical_accuracy: 0.9257 - val_loss: 0.6839 - val_categorical_accuracy: 0.7876\n",
      "Epoch 28/100\n",
      "19/19 [==============================] - 1s 32ms/step - loss: 0.1827 - categorical_accuracy: 0.9534 - val_loss: 0.6435 - val_categorical_accuracy: 0.8135\n",
      "Epoch 29/100\n",
      "19/19 [==============================] - 1s 31ms/step - loss: 0.1625 - categorical_accuracy: 0.9672 - val_loss: 0.6709 - val_categorical_accuracy: 0.7927\n",
      "Epoch 30/100\n",
      "19/19 [==============================] - 1s 28ms/step - loss: 0.1452 - categorical_accuracy: 0.9706 - val_loss: 0.6633 - val_categorical_accuracy: 0.8135\n",
      "Epoch 31/100\n",
      "19/19 [==============================] - 1s 30ms/step - loss: 0.1403 - categorical_accuracy: 0.9672 - val_loss: 0.7138 - val_categorical_accuracy: 0.7927\n",
      "Epoch 32/100\n",
      "19/19 [==============================] - 1s 27ms/step - loss: 0.1495 - categorical_accuracy: 0.9465 - val_loss: 0.7045 - val_categorical_accuracy: 0.7927\n",
      "Epoch 33/100\n",
      "19/19 [==============================] - 1s 27ms/step - loss: 0.1130 - categorical_accuracy: 0.9862 - val_loss: 0.6421 - val_categorical_accuracy: 0.8187\n",
      "Epoch 34/100\n",
      "19/19 [==============================] - 1s 28ms/step - loss: 0.0968 - categorical_accuracy: 0.9862 - val_loss: 0.6590 - val_categorical_accuracy: 0.8083\n",
      "Epoch 35/100\n",
      "19/19 [==============================] - 1s 29ms/step - loss: 0.0818 - categorical_accuracy: 0.9896 - val_loss: 0.6743 - val_categorical_accuracy: 0.8187\n",
      "Epoch 36/100\n",
      "19/19 [==============================] - 1s 29ms/step - loss: 0.0789 - categorical_accuracy: 0.9914 - val_loss: 0.7282 - val_categorical_accuracy: 0.7772\n",
      "Epoch 37/100\n",
      "19/19 [==============================] - 1s 28ms/step - loss: 0.1525 - categorical_accuracy: 0.9499 - val_loss: 0.6768 - val_categorical_accuracy: 0.8135\n",
      "Epoch 38/100\n",
      "19/19 [==============================] - 1s 33ms/step - loss: 0.0880 - categorical_accuracy: 0.9862 - val_loss: 0.6127 - val_categorical_accuracy: 0.8238\n",
      "Epoch 39/100\n",
      "19/19 [==============================] - 1s 37ms/step - loss: 0.0732 - categorical_accuracy: 0.9965 - val_loss: 0.6473 - val_categorical_accuracy: 0.8135\n",
      "Epoch 40/100\n",
      "19/19 [==============================] - 1s 28ms/step - loss: 0.0587 - categorical_accuracy: 0.9983 - val_loss: 0.6509 - val_categorical_accuracy: 0.8238\n",
      "Epoch 41/100\n",
      "19/19 [==============================] - 1s 32ms/step - loss: 0.0501 - categorical_accuracy: 0.9983 - val_loss: 0.6695 - val_categorical_accuracy: 0.8238\n",
      "Epoch 42/100\n",
      "19/19 [==============================] - 1s 28ms/step - loss: 0.0480 - categorical_accuracy: 0.9948 - val_loss: 0.6852 - val_categorical_accuracy: 0.8187\n",
      "Epoch 43/100\n"
     ]
    },
    {
     "name": "stdout",
     "output_type": "stream",
     "text": [
      "19/19 [==============================] - 1s 28ms/step - loss: 0.0412 - categorical_accuracy: 0.9983 - val_loss: 0.7158 - val_categorical_accuracy: 0.8135\n",
      "Epoch 44/100\n",
      "19/19 [==============================] - 1s 28ms/step - loss: 0.0356 - categorical_accuracy: 0.9983 - val_loss: 0.6991 - val_categorical_accuracy: 0.8290\n",
      "Epoch 45/100\n",
      "19/19 [==============================] - 1s 27ms/step - loss: 0.0336 - categorical_accuracy: 0.9983 - val_loss: 0.7194 - val_categorical_accuracy: 0.8238\n",
      "Epoch 46/100\n",
      "19/19 [==============================] - 1s 28ms/step - loss: 0.0278 - categorical_accuracy: 1.0000 - val_loss: 0.7143 - val_categorical_accuracy: 0.8135\n",
      "Epoch 47/100\n",
      "19/19 [==============================] - 1s 28ms/step - loss: 0.0278 - categorical_accuracy: 1.0000 - val_loss: 0.7152 - val_categorical_accuracy: 0.8238\n",
      "Epoch 48/100\n",
      "19/19 [==============================] - 1s 29ms/step - loss: 0.0247 - categorical_accuracy: 1.0000 - val_loss: 0.7650 - val_categorical_accuracy: 0.8135\n",
      "Epoch 49/100\n",
      "19/19 [==============================] - 1s 29ms/step - loss: 0.0250 - categorical_accuracy: 0.9983 - val_loss: 0.7029 - val_categorical_accuracy: 0.8238\n",
      "Epoch 50/100\n",
      "19/19 [==============================] - 1s 30ms/step - loss: 0.0230 - categorical_accuracy: 1.0000 - val_loss: 0.7256 - val_categorical_accuracy: 0.8290\n",
      "Epoch 51/100\n",
      "19/19 [==============================] - 1s 29ms/step - loss: 0.0183 - categorical_accuracy: 1.0000 - val_loss: 0.7600 - val_categorical_accuracy: 0.8135\n",
      "Epoch 52/100\n",
      "19/19 [==============================] - 1s 28ms/step - loss: 0.0182 - categorical_accuracy: 1.0000 - val_loss: 0.7594 - val_categorical_accuracy: 0.8135\n",
      "Epoch 53/100\n",
      "19/19 [==============================] - 1s 29ms/step - loss: 0.0170 - categorical_accuracy: 1.0000 - val_loss: 0.7256 - val_categorical_accuracy: 0.8238\n",
      "Epoch 54/100\n",
      "19/19 [==============================] - 1s 27ms/step - loss: 0.0159 - categorical_accuracy: 1.0000 - val_loss: 0.7808 - val_categorical_accuracy: 0.8187\n",
      "Epoch 55/100\n",
      "19/19 [==============================] - 1s 27ms/step - loss: 0.0148 - categorical_accuracy: 1.0000 - val_loss: 0.7930 - val_categorical_accuracy: 0.8031\n",
      "Epoch 56/100\n",
      "19/19 [==============================] - 1s 29ms/step - loss: 0.0133 - categorical_accuracy: 1.0000 - val_loss: 0.7726 - val_categorical_accuracy: 0.8187\n",
      "Epoch 57/100\n",
      "19/19 [==============================] - 1s 30ms/step - loss: 0.0121 - categorical_accuracy: 1.0000 - val_loss: 0.7983 - val_categorical_accuracy: 0.8135\n",
      "Epoch 58/100\n",
      "19/19 [==============================] - 1s 31ms/step - loss: 0.0110 - categorical_accuracy: 1.0000 - val_loss: 0.8059 - val_categorical_accuracy: 0.8135\n",
      "Epoch 59/100\n",
      "19/19 [==============================] - 1s 29ms/step - loss: 0.0110 - categorical_accuracy: 1.0000 - val_loss: 0.7901 - val_categorical_accuracy: 0.8135\n",
      "Epoch 60/100\n",
      "19/19 [==============================] - 1s 31ms/step - loss: 0.0110 - categorical_accuracy: 1.0000 - val_loss: 0.7926 - val_categorical_accuracy: 0.8187\n",
      "Epoch 61/100\n",
      "19/19 [==============================] - 1s 30ms/step - loss: 0.0103 - categorical_accuracy: 1.0000 - val_loss: 0.7968 - val_categorical_accuracy: 0.8238\n",
      "Epoch 62/100\n",
      "19/19 [==============================] - 1s 29ms/step - loss: 0.0089 - categorical_accuracy: 1.0000 - val_loss: 0.8099 - val_categorical_accuracy: 0.8187\n",
      "Epoch 63/100\n",
      "19/19 [==============================] - 1s 30ms/step - loss: 0.0086 - categorical_accuracy: 1.0000 - val_loss: 0.8209 - val_categorical_accuracy: 0.8187\n",
      "Epoch 64/100\n",
      "19/19 [==============================] - 1s 28ms/step - loss: 0.0086 - categorical_accuracy: 1.0000 - val_loss: 0.8202 - val_categorical_accuracy: 0.8238\n",
      "Epoch 65/100\n",
      "19/19 [==============================] - 1s 27ms/step - loss: 0.0080 - categorical_accuracy: 1.0000 - val_loss: 0.8640 - val_categorical_accuracy: 0.8083\n",
      "Epoch 66/100\n",
      "19/19 [==============================] - 1s 28ms/step - loss: 0.0080 - categorical_accuracy: 1.0000 - val_loss: 0.8608 - val_categorical_accuracy: 0.8135\n",
      "Epoch 67/100\n",
      "19/19 [==============================] - 1s 28ms/step - loss: 0.0069 - categorical_accuracy: 1.0000 - val_loss: 0.8320 - val_categorical_accuracy: 0.8187\n",
      "Epoch 68/100\n",
      "19/19 [==============================] - 1s 32ms/step - loss: 0.0073 - categorical_accuracy: 1.0000 - val_loss: 0.8181 - val_categorical_accuracy: 0.8238\n",
      "17/17 [==============================] - 0s 11ms/step - loss: 0.9002 - categorical_accuracy: 0.8275\n"
     ]
    },
    {
     "data": {
      "text/plain": [
       "[0.9001979231834412, 0.8275193572044373]"
      ]
     },
     "execution_count": 27,
     "metadata": {},
     "output_type": "execute_result"
    }
   ],
   "source": [
    "history_conv_max_2 = History()\n",
    "model = Sequential()\n",
    "model.add(Conv2D(32,(3,3),input_shape=X_train.shape[1:],padding=\"same\"))\n",
    "model.add(MaxPooling2D((2,2)))\n",
    "\n",
    "model.add(Conv2D(16,(2,2),padding=\"same\"))\n",
    "model.add(MaxPooling2D((2,2)))\n",
    "\n",
    "model.add(Flatten())\n",
    "model.add(Dense(n_classes,activation=\"softmax\"))\n",
    "model.summary()\n",
    "\n",
    "early_stopping = EarlyStopping(patience=30,monitor=\"val_loss\")\n",
    "model.compile(loss=\"categorical_crossentropy\",optimizer=\"adam\",metrics=[\"categorical_accuracy\"])\n",
    "model.fit(X_train, y_train, validation_split=0.25,epochs=100,callbacks=[early_stopping, history_conv_max_2])\n",
    "model.evaluate(X_test,y_test)"
   ]
  },
  {
   "cell_type": "code",
   "execution_count": 29,
   "metadata": {},
   "outputs": [
    {
     "data": {
      "image/png": "[encoded data removed]",
      "text/plain": [
       "<Figure size 432x288 with 1 Axes>"
      ]
     },
     "metadata": {
      "needs_background": "light"
     },
     "output_type": "display_data"
    }
   ],
   "source": [
    "# plt.plot(history_dense_1.history['categorical_accuracy'], label = \"tarina dense Layer=1\")\n",
    "# plt.plot(history_dense_1.history['val_categorical_accuracy'], label = \"test dense Layer=1\")\n",
    "\n",
    "# plt.plot(history_dense_2.history['categorical_accuracy'], label = \"tarina dense Layer=2\")\n",
    "# plt.plot(history_dense_2.history['val_categorical_accuracy'], label = \"test dense Layer=2\")\n",
    "\n",
    "# plt.plot(history_conv_max_1.history['categorical_accuracy'], label = \"tarina Conv Layer=1\")\n",
    "# plt.plot(history_conv_max_1.history['val_categorical_accuracy'], label = \"test Conv Layer=1\")\n",
    "\n",
    "plt.plot(history_conv_max_2.history['categorical_accuracy'], label = \"tarina Conv Layer=2\")\n",
    "plt.plot(history_conv_max_2.history['val_categorical_accuracy'], label = \"test Conv Layer=2\")\n",
    "\n",
    "plt.legend()\n",
    "plt.show()"
   ]
  },
  {
   "cell_type": "markdown",
   "metadata": {},
   "source": [
    "# Zad.\n",
    "\n",
    "Dodaj: \n",
    "\n",
    "* BatchNormalization\n",
    "* Dropout\n",
    "\n",
    "```python\n",
    "model.add(layers.Conv2D(64, (3, 3), ...))\n",
    "model.add(layers.BatchNormalization())\n",
    "model.add(layers.Activation(\"relu\"))\n",
    "model.add(MaxPooling2D((2,2)))\n",
    "model.add(Dropout(0.2))\n",
    "```\n",
    "\n",
    "* Dropout can be used after convolutional layers (e.g. Conv2D) and after pooling layers (e.g. MaxPooling2D).\n",
    "* Often, dropout is only used after the pooling layers, but this is just a rough heuristic."
   ]
  },
  {
   "cell_type": "code",
   "execution_count": null,
   "metadata": {},
   "outputs": [],
   "source": []
  },
  {
   "cell_type": "code",
   "execution_count": null,
   "metadata": {},
   "outputs": [],
   "source": []
  },
  {
   "cell_type": "code",
   "execution_count": null,
   "metadata": {},
   "outputs": [],
   "source": []
  }
 ],
 "metadata": {
  "kernelspec": {
   "display_name": "Python 3",
   "language": "python",
   "name": "python3"
  },
  "language_info": {
   "codemirror_mode": {
    "name": "ipython",
    "version": 3
   },
   "file_extension": ".py",
   "mimetype": "text/x-python",
   "name": "python",
   "nbconvert_exporter": "python",
   "pygments_lexer": "ipython3",
   "version": "3.7.6"
  }
 },
 "nbformat": 4,
 "nbformat_minor": 2
}
